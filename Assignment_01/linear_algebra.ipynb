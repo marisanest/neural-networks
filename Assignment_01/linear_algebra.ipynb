{
 "cells": [
  {
   "cell_type": "markdown",
   "metadata": {},
   "source": [
    "# Übung Lineare Algebra (10 Punkte)\n",
    "\n",
    "Diese kleine Übung soll die Implementierung von grundlegenden arithmetischen Opertationen auf Vektoren und Matrizen wiederholen. \n",
    "\n",
    "Bitte implementieren Sie die notwendigen Methoden in der Datei **ak1163051/lineare_algebra.py** auf Basis des Datentyps **Liste** und verifizieren Sie ihre eigene Implementierungen mit der entsprechenden Operation aus dem Numpy-Modul in diesem Notebook, falls möglich. Ein Beispiel ist mit Addition und Subtraktion der Vektoren $\\vec{a}$ und $\\vec{b}$ gegeben.\n"
   ]
  },
  {
   "cell_type": "code",
   "execution_count": 5,
   "metadata": {
    "collapsed": false
   },
   "outputs": [
    {
     "name": "stdout",
     "output_type": "stream",
     "text": [
      "Vektor a:  [204, 36, 29, 51, 2, 110, 248, 228, 218, 231]\n",
      "Vektor b:  [132, 153, 178, 105, 27, 252, 21, 20, 63, 197]\n"
     ]
    }
   ],
   "source": [
    "# Initialization of basic modules and global parameters... \n",
    "from lineare_algebra import * \n",
    "import numpy as np\n",
    "import random\n",
    "\n",
    "# create vectors a and b with 10 digits between 0-255\n",
    "vec_a = random.sample(range(255), 10)\n",
    "vec_b = random.sample(range(255), 10)\n",
    "\n",
    "print (\"Vektor a: \", vec_a)\n",
    "print (\"Vektor b: \", vec_b)"
   ]
  },
  {
   "cell_type": "markdown",
   "metadata": {},
   "source": [
    "## Addition und Subtraktion von Vektoren\n",
    "\n",
    "Berechnen Sie Betrag und Differenz von Vektoren nach folgendem Prinzip:\n",
    "\n",
    "$$\n",
    "\\begin{equation}\n",
    "    \\vec{a} + \\vec{b} \n",
    "    = \n",
    "    \\begin{pmatrix}\n",
    "    a_1\\\\ \n",
    "    a_2\\\\ \n",
    "    a_3\n",
    "    \\end{pmatrix} \n",
    "    +\n",
    "    \\begin{pmatrix}\n",
    "    b_1\\\\ \n",
    "    b_2\\\\ \n",
    "    b_3\n",
    "    \\end{pmatrix}\n",
    "    =\n",
    "    \\begin{pmatrix}\n",
    "    a_1 + b_1\\\\ \n",
    "    a_2 + b_2\\\\ \n",
    "    a_3 + b_3\n",
    "    \\end{pmatrix}\n",
    "\\end{equation}\n",
    "$$\n",
    "$$\n",
    "\\begin{equation}\n",
    "    \\vec{a} - \\vec{b} \n",
    "    = \n",
    "    \\begin{pmatrix}\n",
    "    a_1\\\\ \n",
    "    a_2\\\\ \n",
    "    a_3\n",
    "    \\end{pmatrix} \n",
    "    -\n",
    "    \\begin{pmatrix}\n",
    "    b_1\\\\ \n",
    "    b_2\\\\ \n",
    "    b_3\n",
    "    \\end{pmatrix}\n",
    "    =\n",
    "    \\begin{pmatrix}\n",
    "    a_1 - b_1\\\\ \n",
    "    a_2 - b_2\\\\ \n",
    "    a_3 - b_3\n",
    "    \\end{pmatrix}\n",
    "\\end{equation}\n",
    "$$\n"
   ]
  },
  {
   "cell_type": "code",
   "execution_count": 6,
   "metadata": {
    "collapsed": false
   },
   "outputs": [
    {
     "name": "stdout",
     "output_type": "stream",
     "text": [
      "Result of vector addition: None\n",
      "Are the operations arithmetically equal? False\n",
      "Result of vector subtraction: None\n",
      "Are the operations arithmetically equal? False\n"
     ]
    }
   ],
   "source": [
    "# Addition\n",
    "add_result = vector_add(vec_a,vec_b)\n",
    "print (\"Result of vector addition:\", add_result)\n",
    "print (\"Are the operations arithmetically equal?\", np.array_equal(add_result, np.add(vec_a,vec_b)))\n",
    "\n",
    "# Subtraction - please implement the methode in lineare_algebra.py \n",
    "sub_result = vector_sub(vec_a,vec_b)\n",
    "print (\"Result of vector subtraction:\", sub_result)\n",
    "print (\"Are the operations arithmetically equal?\", np.array_equal(sub_result, np.subtract(vec_a,vec_b)))"
   ]
  },
  {
   "cell_type": "markdown",
   "metadata": {},
   "source": [
    "## Multiplikation von Vektoren mit einem Skalar (0,5 Punkt)\n",
    "\n",
    "Berechenen Sie die Multiplikation von einem Skalar und einem Vektoren nach folgendem Prinzip:\n",
    "\n",
    "$$\n",
    "\\begin{equation}\n",
    "    r * \\vec{a}\n",
    "    = \n",
    "    r\n",
    "    \\begin{pmatrix}\n",
    "    a_1\\\\ \n",
    "    a_2\\\\ \n",
    "    a_3\n",
    "    \\end{pmatrix} \n",
    "    =\n",
    "    \\begin{pmatrix}\n",
    "    ra_1\\\\ \n",
    "    ra_2\\\\ \n",
    "    ra_3\n",
    "    \\end{pmatrix}\n",
    "\\end{equation}\n",
    "$$"
   ]
  },
  {
   "cell_type": "code",
   "execution_count": null,
   "metadata": {
    "collapsed": true
   },
   "outputs": [],
   "source": [
    "# your code"
   ]
  },
  {
   "cell_type": "markdown",
   "metadata": {},
   "source": [
    "## Skalarprodukt (dot product) von Vektoren (1 Punkte)\n",
    "\n",
    "Berechnen Sie das Skalarprodukt von zwei Vektoren nach folgendem Prinzip:\n",
    "\n",
    "$$\n",
    "\\begin{equation}\n",
    "    \\vec{a} * \\vec{b} \n",
    "    = \n",
    "    \\begin{pmatrix}\n",
    "    a_1\\\\ \n",
    "    a_2\\\\ \n",
    "    a_3\n",
    "    \\end{pmatrix} \n",
    "    *\n",
    "    \\begin{pmatrix}\n",
    "    b_1\\\\ \n",
    "    b_2\\\\ \n",
    "    b_3\n",
    "    \\end{pmatrix}\n",
    "    =\n",
    "    a_1 * b_1 + a_2 * b_2 + a_3 * b_3\n",
    "\\end{equation}\n",
    "$$"
   ]
  },
  {
   "cell_type": "code",
   "execution_count": null,
   "metadata": {
    "collapsed": true
   },
   "outputs": [],
   "source": [
    "# your code (numpy: https://docs.scipy.org/doc/numpy/reference/generated/numpy.dot.html)"
   ]
  },
  {
   "cell_type": "markdown",
   "metadata": {},
   "source": [
    "## Erzeugen einer Matrize (1 Punkte)\n",
    "Erzeugen Sie mit Hilfe einer Methode eine Matrize mit der Dimension 10x10 von Zufallswerten zwischen 0 und 255."
   ]
  },
  {
   "cell_type": "code",
   "execution_count": null,
   "metadata": {
    "collapsed": true
   },
   "outputs": [],
   "source": [
    "mat_A = create_random_matrix(10,10)\n",
    "print (\"Matrix A: \", mat_a)"
   ]
  },
  {
   "cell_type": "markdown",
   "metadata": {},
   "source": [
    "## Vektor-Matrix-Multiplikation (1 Punkte)\n",
    "\n",
    "Berechnen Sie das Produkt aus Vektor a und Matrix A nach folgendem Prinzip:\n",
    "$$\n",
    "    \\begin{equation}\n",
    "    A*\\vec{x} \n",
    "    = \n",
    "    \\begin{pmatrix}\n",
    "    a_{11}  &\\cdots & a_{1n} \\\\ \n",
    "    \\vdots & \\ddots & \\vdots \\\\ \n",
    "    a_{m1} & \\cdots & a_{mn}\n",
    "    \\end{pmatrix}\n",
    "    *\n",
    "    \\begin{pmatrix}\n",
    "    x_{1} \\\\ \n",
    "    \\vdots \\\\ \n",
    "    x_{n} \n",
    "    \\end{pmatrix}\n",
    "    =\n",
    "    \\begin{pmatrix}\n",
    "    a_{11}x_1  &\\cdots & a_{1n}x_n \\\\ \n",
    "     & \\vdots &  \\\\ \n",
    "    a_{m1}x_1 & \\cdots & a_{mn}x_n\n",
    "    \\end{pmatrix}\n",
    "    \\end{equation}\n",
    "$$"
   ]
  },
  {
   "cell_type": "code",
   "execution_count": null,
   "metadata": {
    "collapsed": true
   },
   "outputs": [],
   "source": [
    "# your code (numpy: https://docs.scipy.org/doc/numpy/reference/generated/numpy.dot.html)"
   ]
  },
  {
   "cell_type": "markdown",
   "metadata": {},
   "source": [
    "## Transponente einer Matrix (1 Punkte)\n",
    "\n",
    "Manipulieren Sie die Matrix A, sodass die Transponente entsteht, siehe:\n",
    "    \n",
    "$$\n",
    "    \\begin{equation}\n",
    "    A\n",
    "    = \n",
    "    \\begin{pmatrix}\n",
    "    a_{11}  &\\cdots & a_{1n} \\\\ \n",
    "    \\vdots & \\ddots & \\vdots \\\\ \n",
    "    a_{m1} & \\cdots & a_{mn}\n",
    "    \\end{pmatrix}\n",
    "    \\end{equation}\n",
    "$$   \n",
    "$$\n",
    "    \\begin{equation}\n",
    "    A^T\n",
    "    = \n",
    "    \\begin{pmatrix}\n",
    "    a_{11}  &\\cdots & a_{m1} \\\\ \n",
    "    \\vdots & \\ddots & \\vdots \\\\ \n",
    "    a_{1n} & \\cdots & a_{mn}\n",
    "    \\end{pmatrix}\n",
    "    \\end{equation}\n",
    "$$   "
   ]
  },
  {
   "cell_type": "code",
   "execution_count": null,
   "metadata": {
    "collapsed": true
   },
   "outputs": [],
   "source": [
    "# your code (https://docs.scipy.org/doc/numpy-1.13.0/reference/generated/numpy.transpose.html)"
   ]
  }
 ],
 "metadata": {
  "anaconda-cloud": {},
  "kernelspec": {
   "display_name": "Python 3",
   "language": "python",
   "name": "python3"
  },
  "language_info": {
   "codemirror_mode": {
    "name": "ipython",
    "version": 3.0
   },
   "file_extension": ".py",
   "mimetype": "text/x-python",
   "name": "python",
   "nbconvert_exporter": "python",
   "pygments_lexer": "ipython3",
   "version": "3.6.4"
  }
 },
 "nbformat": 4,
 "nbformat_minor": 0
}