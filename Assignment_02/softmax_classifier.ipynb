{
 "cells": [
  {
   "cell_type": "markdown",
   "metadata": {},
   "source": [
    "# Linear Classifier - Softmax"
   ]
  },
  {
   "cell_type": "code",
   "execution_count": 1,
   "metadata": {
    "collapsed": true
   },
   "outputs": [],
   "source": [
    "# All necessary imports at the beginning\n",
    "import numpy as np\n",
    "import matplotlib.pyplot as plt\n",
    "%matplotlib inline\n",
    "\n",
    "from sklearn.datasets import fetch_mldata       \n",
    "from sklearn.preprocessing import OneHotEncoder"
   ]
  },
  {
   "cell_type": "markdown",
   "metadata": {},
   "source": [
    "## Load, explore and prepare dataset\n",
    "\n",
    "The MNIST dataset is a classic Machine Learning dataset you can get it and more information about it from the website of [Yann Lecun](http://yann.lecun.com/exdb/mnist/). MNIST contains handwrittin digits and is split into a tranings set of 60000 examples and a test set of 10000 examples. You can use the module ```sklearn``` to load the MNIST dataset in a convenient way. \n",
    "easy load, mldata.org, orginal mnist, mnist link and description"
   ]
  },
  {
   "cell_type": "code",
   "execution_count": 2,
   "metadata": {
    "collapsed": false
   },
   "outputs": [
    {
     "name": "stdout",
     "output_type": "stream",
     "text": [
      "digits (70000, 784)\n",
      "labels (70000,)\n"
     ]
    }
   ],
   "source": [
    "mnist = fetch_mldata('MNIST original') #load MNIST\n",
    "X, y = mnist[\"data\"], mnist[\"target\"] #separate images and labels\n",
    "\n",
    "# shape of MNIST data\n",
    "print('digits', X.shape)\n",
    "print('labels',y.shape)"
   ]
  },
  {
   "cell_type": "markdown",
   "metadata": {},
   "source": [
    "To get a visualization of MNIST we will plot a digit. Each line represents an image in flatten form (all pixel in a row). We have change the shape from a vector back to a matrix of the original shape to plot the image. In the case of MNIST this means a conversion of 784 pixel into 28x28 pixel. In addition we will check the label of that digit to verify it correspond to the image."
   ]
  },
  {
   "cell_type": "code",
   "execution_count": 3,
   "metadata": {
    "collapsed": false
   },
   "outputs": [
    {
     "name": "stdout",
     "output_type": "stream",
     "text": [
      "label: 7.0\n"
     ]
    },
    {
     "data": {
      "image/png": "[encoded data removed]",
      "text/plain": [
       "<matplotlib.figure.Figure at 0x10dd002e8>"
      ]
     },
     "metadata": {},
     "output_type": "display_data"
    }
   ],
   "source": [
    "def plot_mnist_digit(digit):\n",
    "    image = digit.reshape(28, 28)\n",
    "    plt.imshow(image, cmap='binary', interpolation='bicubic')\n",
    "\n",
    "#choose a random number, plot it and check label \n",
    "random_number = np.random.randint(1,60001)\n",
    "print('label:',y[random_number]) \n",
    "plot_mnist_digit(X[random_number])"
   ]
  },
  {
   "cell_type": "markdown",
   "metadata": {},
   "source": [
    "After a glimpse into MNIST let us explore it a bit further. Write a function ``` plot_mnist_digits(data, examples_each_row)``` that plots configurable number of examples for each class, like:\n",
    "![MNIST Examples](images/MNIST_matrix.png)"
   ]
  },
  {
   "cell_type": "code",
   "execution_count": null,
   "metadata": {
    "collapsed": true
   },
   "outputs": [],
   "source": [
    "def plot_mnist_digits(data, examples_each_row):\n",
    "    ############################################\n",
    "    #TODO: Write a function that plots as many #    \n",
    "    #      examples of each class as defiend   #\n",
    "    #      by 'examples_each_row'              #\n",
    "    ############################################\n",
    "    None\n",
    "    ############################################\n",
    "    #             END OF YOUR CODE             #\n",
    "    ############################################\n",
    "    \n",
    "plot_mnist_digits(X, examples_each_row=11)\n",
    "plt.show() "
   ]
  },
  {
   "cell_type": "markdown",
   "metadata": {},
   "source": [
    "After exploring MNIST let us prepare the date for our linear classifier. First we need to separate traning and test data. Further we will shuffle the traning data to get a random distribution.  "
   ]
  },
  {
   "cell_type": "code",
   "execution_count": 4,
   "metadata": {
    "collapsed": true
   },
   "outputs": [],
   "source": [
    "# split data into training and test set\n",
    "X_train, X_test, y_train, y_test = X[:60000], X[60000:], y[:60000], y[60000:]\n",
    "\n",
    "# shuffle training data\n",
    "shuffle_index = np.random.permutation(60000)\n",
    "X_train, y_train = X_train[shuffle_index], y_train[shuffle_index]"
   ]
  },
  {
   "cell_type": "markdown",
   "metadata": {},
   "source": [
    "## Define a linear classifier using Softmax"
   ]
  },
  {
   "cell_type": "markdown",
   "metadata": {},
   "source": [
    "We will train a model to classify the MNIST dataset with the following equation:\n",
    "\n",
    "$$ L = \\frac{1}{M} \\sum_{i=1}^{M} -log\\; \\left ( \\frac{e^{h(x_j,\\Theta)}}{\\sum_{k=1}^{K}e^{h(x_k,\\Theta)}} \\right)_i + \\frac{\\lambda}{2} \\sum_{}^{} \\Theta^2, \\: with \\;\\; h(X,\\Theta) = X * \\Theta $$\n",
    "\n",
    "Using the universal equation for a loss function we can see the separate parts of that hugh equation.  \n",
    "\n",
    "$$ L = \\frac{1}{N} \\sum_i L_i(h(x_i,\\Theta),y_i) + \\lambda R(\\Theta)$$\n",
    "\n",
    "We will implement each part on its own and put them together. That way it is much easier to understand whats going on. Let us start with the score function or hypothesis:\n",
    "\n",
    "$$h(X,\\Theta) = X * \\Theta$$\n",
    "\n",
    "It is possible to calculate all score values with one matrix multiplication ([dot product](https://docs.scipy.org/doc/numpy-1.14.0/reference/generated/numpy.dot.html)) so we can use the whole traning data $X$ instead of one digit $x_i$."
   ]
  },
  {
   "cell_type": "code",
   "execution_count": 5,
   "metadata": {
    "collapsed": true
   },
   "outputs": [],
   "source": [
    "def class_scores(X,theta):\n",
    "    ############################################\n",
    "    #TODO: Implement the hypothesis and return #\n",
    "    #      the score values for each class of  #\n",
    "    #      every digit.                        #\n",
    "    ############################################\n",
    "    return np.dot(X, theta)\n",
    "    ############################################\n",
    "    #             END OF YOUR CODE             #\n",
    "    ############################################\n"
   ]
  },
  {
   "cell_type": "markdown",
   "metadata": {},
   "source": [
    "After we can define the data loss funtion $L_i$. We assume the score values are unnormalized log probabilities and we use the softmax function to calculate probabilities.\n",
    "$$ P(Y=j\\mid X=x_i) = \\frac{e^{s_j}}{\\sum_{k=1}^{K}e^{s_k}} $$\n",
    "$$ L_i = -log\\;P(Y=j\\mid X=x_i) $$\n",
    "\n",
    "Hint: If the correct classes (labels) are in a [one hot encoding](http://scikit-learn.org/stable/modules/generated/sklearn.preprocessing.OneHotEncoder.html) shape you can use a matrix multiplication to extract the correct class. "
   ]
  },
  {
   "cell_type": "code",
   "execution_count": 12,
   "metadata": {
    "collapsed": false
   },
   "outputs": [],
   "source": [
    "# Support function to convert label vector into a one hot encoding matrix\n",
    "def onehot_encode_label(label):\n",
    "    onehot_encoder = OneHotEncoder(sparse=False)\n",
    "    label = label.reshape(len(label), 1)\n",
    "    onehot_encoded_label = onehot_encoder.fit_transform(label)\n",
    "    return onehot_encoded_label\n",
    "\n",
    "# Calculate class probability distribution for each digit from given class scores\n",
    "def softmax(class_scores):\n",
    "    ############################################\n",
    "    #TODO: Use the softmax function to compute #\n",
    "    #      class probabilties                  #\n",
    "    ############################################\n",
    "    return np.exp(class_scores) / np.sum(np.exp(class_scores), axis=0)\n",
    "    ############################################\n",
    "    #             END OF YOUR CODE             #\n",
    "    ############################################\n",
    "\n",
    "# Compute data_loss L_i for the correct class\n",
    "def data_loss(class_probabilities, onehot_encode_label):\n",
    "    ############################################\n",
    "    #TODO: With hot encoded labels and class   #\n",
    "    #      probabilties calculate data loss    #\n",
    "    #      L_i                                 #\n",
    "    ############################################\n",
    "    return - np.log(np.dot(class_probabilities.T, onehot_encode_label))        # Wofür wird hier onehot_encode_label benötigt?\n",
    "    ############################################\n",
    "    #             END OF YOUR CODE             #\n",
    "    ############################################\n"
   ]
  },
  {
   "cell_type": "code",
   "execution_count": 13,
   "metadata": {
    "collapsed": false,
    "scrolled": true
   },
   "outputs": [
    {
     "name": "stdout",
     "output_type": "stream",
     "text": [
      "(60000, 10)\n",
      "(60000, 10)\n"
     ]
    }
   ],
   "source": [
    "theta = np.zeros([X_train.shape[1],len(np.unique(y_train))])\n",
    "encoded_labels = onehot_encode_label(y_train)           # also needed for the gradient, therefore separated calculated\n",
    "probabilities = softmax(class_scores(X_train,theta))    # also needed for the gradient, therefore separated calculated\n",
    "#print(y_train.shape)\n",
    "#print(X_train.shape)\n",
    "#print(theta.shape)\n",
    "print(encoded_labels.shape)\n",
    "print(probabilities.shape)\n",
    "loss_Li = data_loss(probabilities,encoded_labels)"
   ]
  },
  {
   "cell_type": "markdown",
   "metadata": {},
   "source": [
    "Now we will calculate loss $L$ using the defined functions. \n",
    "\n",
    "$$ L = \\frac{1}{M} \\sum_i L_i(h(x_i,\\Theta),y_i) + \\lambda R(\\Theta)$$\n",
    "\n",
    "Besides the loss L we will have to calculate the gradient for our loss function $L$. To minimize our loss we will need the gradient. For more information about the gradient you can use additional sources, like that good [blog post](https://eli.thegreenplace.net/2016/the-softmax-function-and-its-derivative/)."
   ]
  },
  {
   "cell_type": "code",
   "execution_count": 14,
   "metadata": {
    "collapsed": false
   },
   "outputs": [],
   "source": [
    "theta = np.zeros([X_train.shape[1],len(np.unique(y_train))])\n",
    "encoded_labels = onehot_encode_label(y_train)           # also needed for the gradient, therefore separated calculated\n",
    "probabilities = softmax(class_scores(X_train,theta))    # also needed for the gradient, therefore separated calculated\n",
    "loss_Li = data_loss(probabilities,encoded_labels)"
   ]
  },
  {
   "cell_type": "code",
   "execution_count": 15,
   "metadata": {
    "collapsed": true
   },
   "outputs": [],
   "source": [
    "def loss(X, y, theta, lam):\n",
    "    encoded_labels = onehot_encode_label(y)           # also needed for the gradient, therefore separated calculated\n",
    "    probabilities = softmax(class_scores(X,theta))    # also needed for the gradient, therefore separated calculated\n",
    "    loss_Li = data_loss(probabilities,encoded_labels) \n",
    "    \n",
    "    m = X.shape[0]                                    # number of training data for normalization\n",
    "    l2_regularization = (lam/2)*np.sum(theta*theta)   # regularization loss\n",
    "  \n",
    "    ############################################\n",
    "    #TODO: Put everthing together and calculte #\n",
    "    #      loss L and gradient dL with given   #\n",
    "    #      variables.                          #\n",
    "    ############################################\n",
    "    loss = 1/m * np.sum(loss_Li) + l2_regularization\n",
    "    # gradient = 0 # probabilities * (encoded_labels - probabilities)\n",
    "    \n",
    "    # Gradient of the loss with respect to scores\n",
    "    dscores = probabilities.copy()\n",
    "\n",
    "    # Substract 1 from the scores of the correct class\n",
    "    dscores[np.arange(m),y] -= 1\n",
    "\n",
    "    # Instead of dividing both dW and db with the number of\n",
    "    # samples it's easier to divide dscores beforehand\n",
    "    dscores /= m\n",
    "\n",
    "    # Gradient of the loss with respect to weights\n",
    "    gradient = X.T.dot(dscores) \n",
    "\n",
    "    # Add gradient regularization \n",
    "    gradient += l2_regularization*theta\n",
    "    ############################################\n",
    "    #             END OF YOUR CODE             #\n",
    "    ############################################\n",
    "    \n",
    "    return loss,gradient"
   ]
  },
  {
   "cell_type": "code",
   "execution_count": 16,
   "metadata": {
    "collapsed": false
   },
   "outputs": [
    {
     "ename": "IndexError",
     "evalue": "arrays used as indices must be of integer (or boolean) type",
     "output_type": "error",
     "traceback": [
      "\u001b[0;31m---------------------------------------------------------------------------\u001b[0m",
      "\u001b[0;31mIndexError\u001b[0m                                Traceback (most recent call last)",
      "\u001b[0;32m<ipython-input-16-fc1199a3ace0>\u001b[0m in \u001b[0;36m<module>\u001b[0;34m()\u001b[0m\n\u001b[0;32m----> 1\u001b[0;31m \u001b[0mloss\u001b[0m\u001b[0;34m(\u001b[0m\u001b[0mX_train\u001b[0m\u001b[0;34m,\u001b[0m\u001b[0my_train\u001b[0m\u001b[0;34m,\u001b[0m\u001b[0mtheta\u001b[0m\u001b[0;34m,\u001b[0m\u001b[0;36m0.5\u001b[0m\u001b[0;34m)\u001b[0m\u001b[0;34m\u001b[0m\u001b[0m\n\u001b[0m",
      "\u001b[0;32m<ipython-input-15-6d66056ef2e6>\u001b[0m in \u001b[0;36mloss\u001b[0;34m(X, y, theta, lam)\u001b[0m\n\u001b[1;32m     19\u001b[0m \u001b[0;34m\u001b[0m\u001b[0m\n\u001b[1;32m     20\u001b[0m     \u001b[0;31m# Substract 1 from the scores of the correct class\u001b[0m\u001b[0;34m\u001b[0m\u001b[0;34m\u001b[0m\u001b[0m\n\u001b[0;32m---> 21\u001b[0;31m     \u001b[0mdscores\u001b[0m\u001b[0;34m[\u001b[0m\u001b[0mnp\u001b[0m\u001b[0;34m.\u001b[0m\u001b[0marange\u001b[0m\u001b[0;34m(\u001b[0m\u001b[0mm\u001b[0m\u001b[0;34m)\u001b[0m\u001b[0;34m,\u001b[0m\u001b[0my\u001b[0m\u001b[0;34m]\u001b[0m \u001b[0;34m-=\u001b[0m \u001b[0;36m1\u001b[0m\u001b[0;34m\u001b[0m\u001b[0m\n\u001b[0m\u001b[1;32m     22\u001b[0m \u001b[0;34m\u001b[0m\u001b[0m\n\u001b[1;32m     23\u001b[0m     \u001b[0;31m# Instead of dividing both dW and db with the number of\u001b[0m\u001b[0;34m\u001b[0m\u001b[0;34m\u001b[0m\u001b[0m\n",
      "\u001b[0;31mIndexError\u001b[0m: arrays used as indices must be of integer (or boolean) type"
     ]
    }
   ],
   "source": [
    "loss(X_train,y_train,theta,0.5)"
   ]
  },
  {
   "cell_type": "markdown",
   "metadata": {},
   "source": [
    "## Reduce the cost using gradient descent"
   ]
  },
  {
   "cell_type": "code",
   "execution_count": null,
   "metadata": {
    "collapsed": true
   },
   "outputs": [],
   "source": [
    "def gradient_descent(traning_data, traning_label, theta, lam=0.5, iterations=100, learning_rate=1e-5):\n",
    "    losses = []\n",
    "    ############################################\n",
    "    #TODO: Optimize loss with gradient descent #\n",
    "    #      update rule. Return a final model   #\n",
    "    #      and a history of loss values.       #\n",
    "    ############################################\n",
    "    \n",
    "    ############################################\n",
    "    #             END OF YOUR CODE             #\n",
    "    ############################################    \n",
    "    return theta, losses\n",
    "\n",
    "# Initialize learnable parameters theta \n",
    "theta = np.zeros([X_train.shape[1],len(np.unique(y_train))])\n",
    "# Start optimization with traning data, theta and optional hyperparameters\n",
    "opt_model, loss_history = gradient_descent(X_train,y_train,theta,iterations=250)"
   ]
  },
  {
   "cell_type": "markdown",
   "metadata": {},
   "source": [
    "## Evaluate model\n",
    "Let us look at the optimization results. Final loss tells us how far we could reduce costs during traning process. Further we can use the first loss value as a sanity check and validate our implementation of the loss function works as intended. Recall loss value after first iteration should be $ log\\:c$ with $c$ being number of classes. To visulize the whole tranings process we can plot losss values from each iteration as a loss curve. "
   ]
  },
  {
   "cell_type": "code",
   "execution_count": null,
   "metadata": {
    "collapsed": true
   },
   "outputs": [],
   "source": [
    "# check loss after last iteration\n",
    "print('last iteration loss:',loss_history[-1])\n",
    "# Sanity check: first loss should be ln(10)\n",
    "print('first iteration loss:',loss_history[0])\n",
    "# Plot a loss curve\n",
    "plt.plot(loss_history)\n",
    "plt.ylabel('loss')\n",
    "plt.xlabel('iterations')"
   ]
  },
  {
   "cell_type": "markdown",
   "metadata": {},
   "source": [
    "Evaluation above gave us some inside about the optimization process but did not quantified our final model. One possibility is to calculate model accuracy."
   ]
  },
  {
   "cell_type": "code",
   "execution_count": null,
   "metadata": {
    "collapsed": true
   },
   "outputs": [],
   "source": [
    "def modelAccuracy(X,y,theta):\n",
    "    # calculate probabilities for each digit\n",
    "    probabilities = softmax(np.dot(X,theta))\n",
    "    # class with highest probability will be predicted\n",
    "    prediction = np.argmax(probabilities,axis=1)\n",
    "    # Sum all correct predictions and divied by number of data\n",
    "    accuracy = (sum(prediction == y))/X.shape[0]\n",
    "    return accuracy\n",
    "\n",
    "print('Training accuracy: ', modelAccuracy(X_train,y_train,opt_model))\n",
    "print('Test accuracy: ', modelAccuracy(X_test,y_test,opt_model))"
   ]
  },
  {
   "cell_type": "markdown",
   "metadata": {},
   "source": [
    "But that quantification is limited. A more gerenell approach is to calculate a [confusion matrix](https://en.wikipedia.org/wiki/Confusion_matrix) and get different model measurements from it. A good overview for model measurements is provided by the wikipedia article of [precision and recall](https://en.wikipedia.org/wiki/Precision_and_recall). We implement a confusion matrix for our model and calculate a [F1 score](https://en.wikipedia.org/wiki/F1_score) and ```print()``` it."
   ]
  },
  {
   "cell_type": "code",
   "execution_count": null,
   "metadata": {
    "collapsed": true
   },
   "outputs": [],
   "source": [
    "def confusionMatrix(X,y,theta):\n",
    "    ############################################\n",
    "    #TODO: Calculate a confusion matrix for    # \n",
    "    #      and it.                             #\n",
    "    ############################################\n",
    "    return None\n",
    "    ############################################\n",
    "    #             END OF YOUR CODE             #\n",
    "    ############################################\n",
    "    \n",
    "def f1Score(confMatrix):\n",
    "    ############################################\n",
    "    #TODO: Calculate a F1 score from a given   #\n",
    "    #      confusion matrix.                   #\n",
    "    ############################################\n",
    "    return None\n",
    "    ############################################\n",
    "    #             END OF YOUR CODE             #\n",
    "    ############################################ "
   ]
  },
  {
   "cell_type": "markdown",
   "metadata": {},
   "source": [
    "Interesting is to plot a part of $theta$, because you can visualize the learned templates for each class."
   ]
  },
  {
   "cell_type": "code",
   "execution_count": null,
   "metadata": {
    "collapsed": true
   },
   "outputs": [],
   "source": [
    "plt.imshow(np.reshape(opt_model[:,0],[28,28]))"
   ]
  },
  {
   "cell_type": "code",
   "execution_count": null,
   "metadata": {
    "collapsed": true
   },
   "outputs": [],
   "source": []
  }
 ],
 "metadata": {
  "kernelspec": {
   "display_name": "Python 3",
   "language": "python",
   "name": "python3"
  },
  "language_info": {
   "codemirror_mode": {
    "name": "ipython",
    "version": 3
   },
   "file_extension": ".py",
   "mimetype": "text/x-python",
   "name": "python",
   "nbconvert_exporter": "python",
   "pygments_lexer": "ipython3",
   "version": "3.6.0"
  }
 },
 "nbformat": 4,
 "nbformat_minor": 2
}
