{
 "cells": [
  {
   "cell_type": "markdown",
   "metadata": {},
   "source": [
    "# ML-Fundamentals - Neural Networks - Exercise: Convolution Layer"
   ]
  },
  {
   "cell_type": "markdown",
   "metadata": {},
   "source": [
    "## Table of Contents\n",
    "* [Requirements](#Requirements) \n",
    "  * [Knowledge](#Knowledge) \n",
    "  * [Modules](#Python-Modules) \n",
    "  * [Data](#Data)\n",
    "* [Convolution and Maxpool Layer](#Convolution-and-Maxpool-Layer)\n",
    "  * [Todo: Kernels](#Kernels)\n",
    "  * [Todo: Convolution](#Convolution)\n",
    "  * [Todo: Pooling](#Pooling)\n",
    "  * [Todo: Experiments](#Experiments)"
   ]
  },
  {
   "cell_type": "markdown",
   "metadata": {},
   "source": [
    "# Requirements"
   ]
  },
  {
   "cell_type": "markdown",
   "metadata": {},
   "source": [
    "## Knowledge\n",
    "By now you should be familiar with the convolution operation, but you may want to repeat some information again. Following source are recommended:\n",
    "- [1163050 Lecture Slides](http://home.htw-berlin.de/~voigtb/content/slides/1163150_lecture_05.pdf)\n",
    "- [cs231n ConvNets Lecture Notes](http://cs231n.github.io/convolutional-networks/)\n",
    "- [Colah's Blog](http://colah.github.io/posts/2014-07-Understanding-Convolutions/)"
   ]
  },
  {
   "cell_type": "markdown",
   "metadata": {},
   "source": [
    "## Python-Modules"
   ]
  },
  {
   "cell_type": "code",
   "execution_count": null,
   "metadata": {},
   "outputs": [],
   "source": [
    "# third party\n",
    "import numpy as np\n",
    "import matplotlib.pyplot as plt\n",
    "from PIL import Image\n",
    "import scipy.signal "
   ]
  },
  {
   "cell_type": "markdown",
   "metadata": {},
   "source": [
    "## Data\n",
    "For the exercise i used the 'Photo of the Day' (6.6.2018) from Unsplash.com by Adrian Trinkaus. You can change it at will."
   ]
  },
  {
   "cell_type": "code",
   "execution_count": null,
   "metadata": {},
   "outputs": [],
   "source": [
    "# Open an image\n",
    "img = Image.open('pics/berlin_adrian-trinkaus.jpg')\n",
    "# Convert it to greyscale and RGB\n",
    "img_gry = img.convert('L')\n",
    "img_rgb = img.convert('RGB')\n",
    " \n",
    "# Create a numpy array with dimensions (height, width, channel)\n",
    "# and squash all values into interval [0,1]\n",
    "img_gry = np.asarray(img_gry)/256.\n",
    "img_rgb = np.asarray(img_rgb)/256.\n",
    "\n",
    "# Print array shapes\n",
    "print('grayscale shape:', img_gry.shape)\n",
    "print('rgb shape:', img_rgb.shape)\n",
    "\n",
    "# Example plot\n",
    "fig, (ax1, ax2) = plt.subplots(2, sharey=True,figsize=(15,15))\n",
    "ax1.imshow(img_gry, cmap=\"Greys_r\")\n",
    "ax2.imshow(img_rgb)\n",
    "plt.show()"
   ]
  },
  {
   "cell_type": "markdown",
   "metadata": {},
   "source": [
    "# Convolution and Maxpool Layer"
   ]
  },
  {
   "cell_type": "markdown",
   "metadata": {},
   "source": [
    "## Kernels \n",
    "**(2)**\n",
    "Cause we do not learn the filters during the exercise we will need some for your experiments. Some Filters are given and you should create at least two more. Do a small research about 'image processing filters' and pick what you like. Remember that your Kernels need to have the same depth as your input. You may consider this issue during your implementation of the convolution operation. "
   ]
  },
  {
   "cell_type": "code",
   "execution_count": null,
   "metadata": {},
   "outputs": [],
   "source": [
    "# typical edge detection filter\n",
    "class Kernels:\n",
    "    def __init__(self):\n",
    "        self.edge_detector_2d = np.array([[0., 1., 0.],[1., -4., 1.],[0., 1., 0.]])\n",
    "        self.sobel_2d = np.array([[1.,2.,1.],[0.,0.,0],[-1.,-2.,-1.]])\n",
    "        self.gauss_2d = self.blur()\n",
    "        \n",
    "    def blur(self):\n",
    "        gauss_1d = scipy.signal.get_window(('gaussian',1.),15)\n",
    "        gauss_2d = np.outer(gauss_1d,gauss_1d)\n",
    "        return gauss_2d/gauss_2d.sum()"
   ]
  },
  {
   "cell_type": "markdown",
   "metadata": {},
   "source": [
    "## Convolution\n",
    "**(5)** \n",
    "Create a `Conv` class that implements a (naive) convolution operation on _one_ image at the time. Do not use any module, your goal is to get a better understanding for a 2d-conv operation. If your input has more as one channel apply on each the same conv-operation. Document your code and follow the  specification. After your implementation, give a statement about the runtime of your algorithm based on the $O$ notation."
   ]
  },
  {
   "cell_type": "code",
   "execution_count": null,
   "metadata": {},
   "outputs": [],
   "source": [
    "class Conv:\n",
    "    def __init__(self, image_dim, kernel, stride=1, padding=True, verbose=None):\n",
    "        \"\"\" \n",
    "        Args:\n",
    "            image_dim: dimension of the squared image \n",
    "            kernel: a filter for the convulution\n",
    "            stride: step size with which the kernel slides over the image\n",
    "            padding: if set zero padding will be applied to keep image dimensions\n",
    "            verbose: if set additional information will be printed, e.g., input and output dimensions\n",
    "        \"\"\"\n",
    "        raise NotImplementedError(\"This is your duty\")\n",
    "        \n",
    "    def forward(self, image):\n",
    "        \"\"\" Executes a convolution on the given image with init params  \n",
    "        \n",
    "        Args:\n",
    "            image (ndarray): squared image \n",
    "        \n",
    "        Returns:    \n",
    "            ndarray: activation map\n",
    "        \"\"\"\n",
    "        return NotImplementedError(\"This is your duty\")"
   ]
  },
  {
   "cell_type": "markdown",
   "metadata": {},
   "source": [
    "## Pooling\n",
    "**(2)** \n",
    "Create a `Pooling` class that implements the pooling operation with different functions (max, sum, mean) on a given image. Document your code and follow the specification."
   ]
  },
  {
   "cell_type": "code",
   "execution_count": null,
   "metadata": {},
   "outputs": [],
   "source": [
    "class Pooling():\n",
    "    def __init__(self, image_dim, pooling_function=None, pooling_size=2, stride=2, verbose=None):\n",
    "        \"\"\" \n",
    "        Args:\n",
    "            image_dim: dimension of the squared image \n",
    "            pooling_function: defines the pooling operator 'max' (default), 'mean' or 'sum'\n",
    "            poolig_size: size of one axis of the squared pooling filter\n",
    "            stride: step size with which the filter slides over the image\n",
    "            verbose: if set additional information will be printed, e.g., input and output dimensions\n",
    "        \"\"\"\n",
    "        raise NotImplementedError(\"This is your duty\")\n",
    "        \n",
    "    def forward(self, image):\n",
    "        \"\"\" Executes pooling on the given image with init params  \n",
    "        \n",
    "        Args:\n",
    "            image (ndarray): squared image \n",
    "        \n",
    "        Returns:    \n",
    "            ndarray: activation map\n",
    "        \"\"\"\n",
    "        return NotImplementedError(\"This is your duty\")        "
   ]
  },
  {
   "cell_type": "markdown",
   "metadata": {},
   "source": [
    "## Experiments\n",
    "**(3)**\n",
    "Use the data (you may want to try some more images) and different kernel to do some experiments with your implementations. Plot results of convolution operations and compare them. What happens if you stack several convolution operations? What are the differences between the pooling functions? "
   ]
  },
  {
   "cell_type": "code",
   "execution_count": null,
   "metadata": {},
   "outputs": [],
   "source": []
  }
 ],
 "metadata": {
  "kernelspec": {
   "display_name": "Python 3",
   "language": "python",
   "name": "python3"
  },
  "language_info": {
   "codemirror_mode": {
    "name": "ipython",
    "version": 3
   },
   "file_extension": ".py",
   "mimetype": "text/x-python",
   "name": "python",
   "nbconvert_exporter": "python",
   "pygments_lexer": "ipython3",
   "version": "3.6.4"
  }
 },
 "nbformat": 4,
 "nbformat_minor": 2
}
