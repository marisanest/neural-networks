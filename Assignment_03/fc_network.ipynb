{
 "cells": [
  {
   "cell_type": "markdown",
   "metadata": {},
   "source": [
    "# ML-Fundamentals - Neural Networks - Exercise: Minimal Fully Connected Network for MNIST"
   ]
  },
  {
   "cell_type": "markdown",
   "metadata": {},
   "source": [
    "## Table of Contents\n",
    "* [Requirements](#Requirements) \n",
    "  * [Modules](#Python-Modules) \n",
    "  * [Data](#Data)\n",
    "* [Simple MNIST Network](#Simple-MNIST-Network)\n",
    "  * [Todo: Transparency](#Todo:-Transparency)\n",
    "  * [Todo: Comprehension](#Todo:-Comprehension)\n",
    "  * [Todo: Step towards a NN-Framework](#Todo:-Step-towards-a-NN-Framework)"
   ]
  },
  {
   "cell_type": "markdown",
   "metadata": {},
   "source": [
    "# Requirements\n"
   ]
  },
  {
   "cell_type": "markdown",
   "metadata": {},
   "source": [
    "## Python-Modules"
   ]
  },
  {
   "cell_type": "code",
   "execution_count": 1,
   "metadata": {},
   "outputs": [],
   "source": [
    "# third party\n",
    "import numpy as np\n",
    "import matplotlib.pyplot as plt\n",
    "\n",
    "# internal\n",
    "from deep_teaching_commons.data.fundamentals.mnist import Mnist"
   ]
  },
  {
   "cell_type": "markdown",
   "metadata": {},
   "source": [
    "## Data"
   ]
  },
  {
   "cell_type": "code",
   "execution_count": 2,
   "metadata": {},
   "outputs": [
    {
     "name": "stdout",
     "output_type": "stream",
     "text": [
      "auto download is active, attempting download\n",
      "mnist data directory already exists, download aborted\n"
     ]
    }
   ],
   "source": [
    "# create mnist loader from deep_teaching_commons\n",
    "mnist_loader = Mnist(data_dir='data')\n",
    "\n",
    "# load all data, labels are one-hot-encoded, images are flatten and pixel squashed between [0,1]\n",
    "train_images, train_labels, test_images, test_labels = mnist_loader.get_all_data(one_hot_enc=True, normalized=True)\n",
    "\n",
    "# shuffle training data\n",
    "shuffle_index = np.random.permutation(60000)\n",
    "train_images, train_labels = train_images[shuffle_index], train_labels[shuffle_index]"
   ]
  },
  {
   "cell_type": "markdown",
   "metadata": {},
   "source": [
    "# Simple MNIST Network\n",
    "The presented network is an adaptation of Michael Nielson's introductory example to neural networks. It is recommended, though not necessary, to read the first two chapters of his great online book ['Neural Networks and Deep Learning'](http://neuralnetworksanddeeplearning.com/) for a better understanding of the given example. Compared to the [original](https://github.com/mnielsen/neural-networks-and-deep-learning/blob/master/src/network.py) by Nielsen, the present variant was vectorized and the sigmoid activation function replaced by a rectified linear unit function (ReLU). As a result, the code is written much more compact, and the optimization of the model is much more efficient. "
   ]
  },
  {
   "cell_type": "markdown",
   "metadata": {},
   "source": [
    "## Todo: Transparency\n",
    "Your goal is to understand how the implementation works. Therefore your tasks are as follows:\n",
    "  - (2) Add comments to functions and lines of code. Follow the [Google-Pyhton](https://google.github.io/styleguide/pyguide.html) guidelines for comments.\n",
    "  - (2) Add a verbose argument (`boolean`) to the functions that adds meaningful `print` lines to the network, if it is `true`.\n",
    "  - (2) Add a variable `delta_hist` which store the delta value calculated on the output layer during each iteration of the function `grads(X,Y,weights)`. After the optimization process plot `delta_hist`."
   ]
  },
  {
   "cell_type": "markdown",
   "metadata": {},
   "source": [
    "Fragen:\n",
    "* Sollen auch die Klassen kommentiert werden? Müssen noch mehr line comments hinzugefügt werden?\n",
    "* Es gibt bisher nur eine einzige Print-Ausgabe, sollen wir weitere hinzufügen? Falls ja: Sollen diese sowohl oben als auch weiter untern im Code machen?\n",
    "* Sollen wir nur in den Klassen weiter untern das varbose hinzufügen oder sollen wir die Oprimierung weiter oben auch in eine extra Funktion packen und dann ein varbose hinzufügen?"
   ]
  },
  {
   "cell_type": "code",
   "execution_count": 18,
   "metadata": {},
   "outputs": [
    {
     "name": "stdout",
     "output_type": "stream",
     "text": [
      "0 0.9388\n",
      "1 0.955\n",
      "2 0.9602\n",
      "3 0.965\n",
      "4 0.9679\n",
      "5 0.9685\n",
      "6 0.9707\n",
      "7 0.9717\n",
      "8 0.9726\n",
      "9 0.9738\n"
     ]
    },
    {
     "data": {
      "text/plain": [
       "[<matplotlib.lines.Line2D at 0x117fca588>]"
      ]
     },
     "execution_count": 18,
     "metadata": {},
     "output_type": "execute_result"
    },
    {
     "data": {
      "image/png": "[encoded data removed]",
      "text/plain": [
       "<matplotlib.figure.Figure at 0x117dac198>"
      ]
     },
     "metadata": {},
     "output_type": "display_data"
    }
   ],
   "source": [
    "delta_hist =[]\n",
    "\n",
    "def feed_forward(X, weights):\n",
    "    \"\"\"Calculate the outputs of all layer of the network.\n",
    "\n",
    "    Calculates the outputs of all layers of the network given \n",
    "    the inputs X and the weights. As activation function ReLU \n",
    "    is used.\n",
    "\n",
    "    Args:\n",
    "        X: The input values of the network.\n",
    "        weights: The weights of all layers of the network.\n",
    "\n",
    "    Returns:\n",
    "       A numpy.array containing the outputs of all layers of \n",
    "       the network.\n",
    "    \"\"\"\n",
    "    a = [X]\n",
    "    for w in weights:\n",
    "        a.append(np.maximum(a[-1].dot(w),0))\n",
    "    return a\n",
    "\n",
    "def grads(X, Y, weights):\n",
    "    \"\"\"Calculate the gradients of the weights of the network.\n",
    "\n",
    "    Calculate the gradients of the weights of the network given \n",
    "    the inputs X, the labels of the inputs Y and the weights. \n",
    "    Therefor the quadratic cost function is used.\n",
    "    \n",
    "    Args:\n",
    "        X: The input values of the network.\n",
    "        Y: The labels of the input values of the network.\n",
    "        weights: The weights of all layers of the network.\n",
    "\n",
    "    Returns:\n",
    "       A numpy.array containing all gradients of the weights \n",
    "       of the network.\n",
    "    \"\"\"\n",
    "    grads = np.empty_like(weights)\n",
    "    a = feed_forward(X, weights)\n",
    "    # https://brilliant.org/wiki/backpropagation/ or https://stats.stackexchange.com/questions/154879/a-list-of-cost-functions-used-in-neural-networks-alongside-applications\n",
    "    delta = a[-1] - Y # why not * (a[i] > 0) bzw. * (z[i] > 0)?\n",
    "    delta_hist.append(np.sum(delta*Y)/len(X))  # why np.sum(delta*Y)/len(X) and not np.sum((Y - a[-1])*(Y - a[-1]))/(len(X)*2)?\n",
    "    grads[-1] = a[-2].T.dot(delta)\n",
    "    for i in range(len(a)-2, 0, -1):\n",
    "        delta = (a[i] > 0) * delta.dot(weights[i].T) # why not * (z[i] > 0)?\n",
    "        grads[i-1] = a[i-1].T.dot(delta)\n",
    "    return grads / len(X) # why / len(x)\n",
    "\n",
    "trX, trY, teX, teY = train_images, train_labels, test_images, test_labels\n",
    "# weights inistalisation with gaussian normal distribution values\n",
    "weights = [np.random.randn(*w) * 0.1 for w in [(784, 200), (200,100), (100, 10)]]\n",
    "\n",
    "num_epochs, batch_size, learn_rate = 20, 50, 0.1\n",
    "\n",
    "for i in range(num_epochs):\n",
    "    for j in range(0, len(trX), batch_size):\n",
    "        X, Y = trX[j:j+batch_size], trY[j:j+batch_size]\n",
    "        weights -= learn_rate * grads(X, Y, weights)\n",
    "        once = False\n",
    "    prediction_test = np.argmax(feed_forward(teX, weights)[-1], axis=1)\n",
    "    print (i, np.mean(prediction_test == np.argmax(teY, axis=1)))\n",
    "plt.plot(delta_hist)"
   ]
  },
  {
   "cell_type": "markdown",
   "metadata": {},
   "source": [
    "## Todo: Comprehension\n",
    "Hopefully, this implementation of a neural network is clear now. As a check answer the following questions (a few sentences, no novels):\n",
    "  - (2) Which cost function is used, what is its derivation and how is it implemented?\n",
    "      * Quadratic cost functionis used and the derivation is ... . It is implemeted as ```delta = a[-1] - Y ``` where ```a``` contains the output values of all layers of the network; except the values of the index ```0```: these are the input values of the network. The index ```-1``` means that the outputs of the last layer of the network are used. ```Y``` are the exact values ```a[-1]``` should have if the model would work perfectly. \n",
    "  - (2) Why are the boundaries of your plot between [-1,0], why it is so noisy, how do you can reduce the noice and what is the difference to a usual plot of a loss function?\n",
    "      * It is so noisy because of SGD(?). Another optimisation algorithm could be used.\n",
    "      * The difference is that not the regular formular for the quadratic cost function is used to calculate the values but a different. Normal would be ```np.sum((Y - a[-1])*(Y - a[-1]))/(len(X)*2)``` but used is ```np.sum(delta*Y)/len(X)```.\n",
    "  - (2) How does the network implement the backpropagation algorithm? "
   ]
  },
  {
   "cell_type": "markdown",
   "metadata": {},
   "source": [
    "Fragen\n",
    "* zur 2.\n",
    "    * Wieso werden die Werte folgendermaßen berechnet: ```np.sum(delta*Y)/len(X)``` und nicht so: ```np.sum((Y - a[-1])*(Y - a[-1]))/(len(X)*2)```?\n",
    "* zur 3.\n",
    "    * Wie ist das gemeint?"
   ]
  },
  {
   "cell_type": "markdown",
   "metadata": {},
   "source": [
    "## Todo: Step towards a NN-Framework\n",
    "The presented implementation is compact and efficient, but hard to modify or extend. However, a modular design is crucial if you want to experiment with a neural network to understand the influence of its components. Now you make the first changes towards your own 'toy-neural-network-framework', which you should expand in the progress of exercise 03. \n",
    "\n",
    "(5) Rework the implementation from above given the classes and methods below. Again, you _do not_ have to re-engineer the whole neural network at this step. Rework the code to match the given specification and do necessary modifications only. For your understanding, you can change the names of the variables to more fitting ones."
   ]
  },
  {
   "cell_type": "markdown",
   "metadata": {},
   "source": [
    "Fragen\n",
    "* Soll die sgd() Funktion direkt in der init() aufgerufen werden, oder sollen wir den Code weiter untern noch erweitern, obwohl dort steht, dass er so funktionieren sollte."
   ]
  },
  {
   "cell_type": "code",
   "execution_count": 15,
   "metadata": {},
   "outputs": [
    {
     "name": "stdout",
     "output_type": "stream",
     "text": [
      "0 0.8676\n",
      "1 0.9002\n",
      "2 0.913\n",
      "3 0.9215\n",
      "4 0.9293\n",
      "5 0.9354\n",
      "6 0.9388\n",
      "7 0.943\n",
      "8 0.945\n",
      "9 0.9471\n",
      "10 0.9491\n",
      "11 0.951\n",
      "12 0.9523\n",
      "13 0.9539\n",
      "14 0.9554\n",
      "15 0.9557\n",
      "16 0.9559\n",
      "17 0.9566\n",
      "18 0.957\n",
      "19 0.9582\n"
     ]
    },
    {
     "data": {
      "text/plain": [
       "[<matplotlib.lines.Line2D at 0x1173c28d0>]"
      ]
     },
     "execution_count": 15,
     "metadata": {},
     "output_type": "execute_result"
    },
    {
     "data": {
      "image/png": "[encoded data removed]",
      "text/plain": [
       "<matplotlib.figure.Figure at 0x1170b1f60>"
      ]
     },
     "metadata": {},
     "output_type": "display_data"
    }
   ],
   "source": [
    "class FullyConnectedNetwork:\n",
    "    def __init__(self, layers):\n",
    "        self.layers = layers\n",
    "        self.weights = [np.random.randn(*layer) * 0.1 for layer in self.layers]\n",
    "        self.a = None\n",
    "        self.grads = None\n",
    "        self.delta_hist = []\n",
    "        \n",
    "    def forward(self, data):\n",
    "        \"\"\"Calculates the outputs of all layer of the network.\n",
    "\n",
    "        Calculates the outputs of all layers of the network for \n",
    "        the given data. As activation function ReLU is used.\n",
    "\n",
    "        Args:\n",
    "            data: The input values of the network.\n",
    "\n",
    "        Returns:\n",
    "           A numpy.array containing the outputs of all layers of \n",
    "           the network.\n",
    "        \"\"\"    \n",
    "        a = [data]\n",
    "        for w in self.weights:\n",
    "            a.append(self.relu(a[-1].dot(w)))\n",
    "        return a\n",
    "\n",
    "    def backward(self, X, Y):\n",
    "        \"\"\"Calculates the gradients of the weights of the network.\n",
    "\n",
    "        Calculates the gradients of the weights of the network given \n",
    "        the inputs X and the labels of the inputs Y. Therefor the \n",
    "        quadratic cost function is used.\n",
    "    \n",
    "        Args:\n",
    "            X: The input values of the network.\n",
    "            Y: The labels of the input values of the network.\n",
    "\n",
    "        Returns:\n",
    "           A numpy.array containing all gradients of the weights \n",
    "           of the network.\n",
    "        \"\"\"\n",
    "        self.grads = np.empty_like(self.weights)\n",
    "        self.a = self.forward(X)\n",
    "        delta = self.a[-1] - Y \n",
    "        self.delta_hist.append(np.sum(delta*Y)/len(X))\n",
    "        self.grads[-1] = self.a[-2].T.dot(delta)\n",
    "        \n",
    "        for i in range(len(self.a) - 2, 0, -1):\n",
    "            delta = self.relu_prime(self.a[i]) * delta.dot(self.weights[i].T)\n",
    "            self.grads[i-1] = self.a[i-1].T.dot(delta)\n",
    "        \n",
    "        return self.grads / len(X)\n",
    "\n",
    "    def predict(self, data):\n",
    "        \"\"\"Predicts the labels for given data.\n",
    "\n",
    "        Predicts the labels for the given data.\n",
    "    \n",
    "        Args:\n",
    "            data: The data which labels are predicted for.\n",
    "\n",
    "        Returns:\n",
    "           A numpy.array containing all labels as indices.\n",
    "        \"\"\"\n",
    "        return np.argmax(self.forward(data)[-1], axis=1)\n",
    "    \n",
    "    def relu(self, data):\n",
    "        \"\"\"Calculates the activation values for the ReLU function.\n",
    "\n",
    "        Calculates the activation values for the ReLU function for \n",
    "        the given data.\n",
    "    \n",
    "        Args:\n",
    "            data: The data which the activation values are \n",
    "            calculated for.\n",
    "\n",
    "        Returns:\n",
    "           A numpy.array containing all activation values.\n",
    "        \"\"\"\n",
    "        return np.maximum(data, 0)\n",
    "    \n",
    "    def relu_prime(self, data):\n",
    "        \"\"\"Calculates the gradients for the ReLU function.\n",
    "\n",
    "        Calculates the gradients for the ReLU function given \n",
    "        the wighted inputs. \n",
    "    \n",
    "        Args:\n",
    "            data: The data which the gradients are \n",
    "            calculated for.\n",
    "\n",
    "        Returns:\n",
    "           A numpy.array containing all gradients.\n",
    "        \"\"\"\n",
    "        return (data > 0)\n",
    "            \n",
    "class Optimizer:\n",
    "    def __init__(self, network, train_data, train_labels, test_data=None, test_labels=None, epochs=100, batch_size=20, learning_rate=0.01, verbose=False):\n",
    "        self.network = network\n",
    "        self.train_data = train_data\n",
    "        self.train_labels = train_labels\n",
    "        self.test_data = test_data\n",
    "        self.test_labels = test_labels\n",
    "        self.epochs = epochs\n",
    "        self.batch_size = batch_size\n",
    "        self.learning_rate = learning_rate\n",
    "        self.sgd(verbose)\n",
    "        \n",
    "    def sgd(self, verbose=False):\n",
    "        \"\"\"Optimizes a network using SGD.\n",
    "\n",
    "        Optimizes a network using SGD. \n",
    "    \n",
    "        Args:\n",
    "            verbose: If True information about the process are \n",
    "            printed during the optimisation.\n",
    "        \"\"\"\n",
    "        for i in range(self.epochs):\n",
    "            for j in range(0, len(self.train_data), self.batch_size):\n",
    "                X, Y = self.train_data[j:j+self.batch_size], self.train_labels[j:j+self.batch_size]\n",
    "                self.network.weights -= self.learning_rate * self.network.backward(X, Y)\n",
    "            if verbose:\n",
    "                print(i, np.mean(self.network.predict(self.test_data) == np.argmax(self.test_labels, axis=1)))\n",
    "\n",
    "    \n",
    "# Following code should run:    \n",
    "mnist_NN = FullyConnectedNetwork([(784, 200),(200,100),(100, 10)]) \n",
    "epochs, batch_size, learning_rate = 20, 500, 0.1\n",
    "Optimizer(mnist_NN, train_images, train_labels, test_images, test_labels, epochs, batch_size, learning_rate, True)\n",
    "plt.plot(mnist_NN.delta_hist)"
   ]
  },
  {
   "cell_type": "code",
   "execution_count": null,
   "metadata": {},
   "outputs": [],
   "source": []
  }
 ],
 "metadata": {
  "kernelspec": {
   "display_name": "Python 3",
   "language": "python",
   "name": "python3"
  },
  "language_info": {
   "codemirror_mode": {
    "name": "ipython",
    "version": 3
   },
   "file_extension": ".py",
   "mimetype": "text/x-python",
   "name": "python",
   "nbconvert_exporter": "python",
   "pygments_lexer": "ipython3",
   "version": "3.6.0"
  }
 },
 "nbformat": 4,
 "nbformat_minor": 2
}
