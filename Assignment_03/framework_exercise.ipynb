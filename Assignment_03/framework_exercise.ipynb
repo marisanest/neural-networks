{
 "cells": [
  {
   "cell_type": "markdown",
   "metadata": {},
   "source": [
    "# ML-Fundamentals - Neural Networks - Exercise: Neural Network Framework"
   ]
  },
  {
   "cell_type": "markdown",
   "metadata": {},
   "source": [
    "# Tasks\n",
    "Your main goal is to extend the existing framework, to perform experiments with different model combinations and to document your observations. Here is a list of necessary tasks and some ideas for additional points:\n",
    "  * (6) Write a data loader for a different image dataset, e.g., CIFAR or Labelled Faces in the Wild. Feel free to search a dataset you like to classify. Create and train a simple fully connected network on that dataset in this notebook.\n",
    "  * (10) Implement the `Conv` and `Pool` Layer in `layer.py`. Create and train a convolutional neural network on Mnist and your chosen dataset in this notebook.\n",
    "\n",
    "Bonus points\n",
    "  * (5) 1 to 5 points are given for improving the class and method comments in the framework files. Points are given based on the quality and quantity of the comments.\n",
    "  * (1) For each additional implemented activation functions in `activation_func.py` you get 1 bonus point (max 4 points). Test your implementation in this notebook and observe effects on your networks. Keep an eye on your layer initialization.\n",
    "  * (2) Implement `Dropout` in `layer.py` and test your implementation with a toy example. Create and train a model that includes Dropout as a layer.\n",
    "  * (5) Implement `Batchnorm` in `layer.py` and test your implementation with a toy example. Create and train a model that includes Dropout as a layer.\n",
    "  * (4) Implement another optimization algorithm in `optimizer.py`. Train one of your models with that new optimizer.\n",
    "  * (5) Do something extra, up to 5 points.  \n",
    "  \n",
    "Please document thoroughly and explain what you do in your experiments, so that work in the notebook is comprehensible, else no points are given."
   ]
  },
  {
   "cell_type": "markdown",
   "metadata": {},
   "source": [
    "# Requirements"
   ]
  },
  {
   "cell_type": "markdown",
   "metadata": {},
   "source": [
    "## Python-Modules"
   ]
  },
  {
   "cell_type": "code",
   "execution_count": null,
   "metadata": {
    "collapsed": false
   },
   "outputs": [],
   "source": [
    "%load_ext autoreload\n",
    "%autoreload 2\n",
    "# custom \n",
    "from htw_nn_framework.networks import NeuralNetwork\n",
    "from htw_nn_framework.layer import *\n",
    "from htw_nn_framework.activation_func import *\n",
    "from htw_nn_framework.loss_func import *\n",
    "from htw_nn_framework.optimizer import *\n",
    "from htw_nn_framework.cifar import *\n",
    "from htw_nn_framework.initializer import *\n",
    "\n",
    "# third party\n",
    "from deep_teaching_commons.data.fundamentals.mnist import Mnist"
   ]
  },
  {
   "cell_type": "markdown",
   "metadata": {},
   "source": [
    "## Data\n",
    "## MNIST"
   ]
  },
  {
   "cell_type": "code",
   "execution_count": null,
   "metadata": {
    "collapsed": false
   },
   "outputs": [],
   "source": [
    "# create mnist loader from deep_teaching_commons\n",
    "mnist_loader = Mnist(data_dir='data')\n",
    "\n",
    "# load all data, labels are one-hot-encoded, images are flatten and pixel squashed between [0,1]\n",
    "mnist_train_images, mnist_train_labels, mnist_test_images, mnist_test_labels = mnist_loader.get_all_data(flatten=False, one_hot_enc=False, normalized=True)\n",
    "print(mnist_train_images.shape, mnist_train_labels.shape)\n",
    "\n",
    "# reshape to match generell framework architecture \n",
    "mnist_train_images, mnist_test_images = mnist_train_images.reshape(60000, 1, 28, 28), mnist_test_images.reshape(10000, 1, 28, 28)            \n",
    "print(mnist_train_images.shape, mnist_train_labels.shape)\n",
    "\n",
    "# shuffle training data\n",
    "shuffle_index = np.random.permutation(60000)\n",
    "mnist_train_images, mnist_train_labels = mnist_train_images[shuffle_index], mnist_train_labels[shuffle_index]\n",
    "\n",
    "# Generate an even smaller data set to be able to compute and debug faster. \n",
    "# Can be left out if computing power is high enough or if the computation is \n",
    "# not for debugging but for computing the best model possible.\n",
    "mnist_train_images_small, mnist_train_labels_small, mnist_test_images_small, mnist_test_labels_small = mnist_train_images[:100,:,:,:], mnist_train_labels[:100], mnist_test_images[:100,:,:,:], mnist_test_labels[:100]\n",
    "print(mnist_train_images_small.shape, mnist_train_labels_small.shape)"
   ]
  },
  {
   "cell_type": "markdown",
   "metadata": {},
   "source": [
    "## CIFAR10"
   ]
  },
  {
   "cell_type": "code",
   "execution_count": null,
   "metadata": {
    "collapsed": false
   },
   "outputs": [],
   "source": [
    "# create cifar loader\n",
    "cifar_loader = Cifar(data_dir='cifar-10-batches-py')\n",
    "\n",
    "# load all data, pixel squashed between [0,1]\n",
    "cifar_train_images, cifar_train_labels, cifar_test_images, cifar_test_labels = cifar_loader.get_all_data(normalized=True)\n",
    "print(cifar_train_images.shape, cifar_train_labels.shape)\n",
    "\n",
    "# shuffle training data\n",
    "shuffle_index = np.random.permutation(len(cifar_train_images))\n",
    "cifar_train_images, cifar_train_labels = cifar_train_images[shuffle_index], cifar_train_labels[shuffle_index]\n",
    "\n",
    "# Generate an even smaller data set to be able to compute and debug faster. \n",
    "# Can be left out if computing power is high enough or if the computation is \n",
    "# not for debugging but for computing the best model possible.\n",
    "cifar_train_images_small, cifar_train_labels_small, cifar_test_images_small, cifar_test_labels_small = cifar_train_images[:100,:,:,:], cifar_train_labels[:100], cifar_test_images[:100,:,:,:], cifar_test_labels[:100]\n",
    "print(cifar_train_images_small.shape, cifar_train_labels_small.shape)"
   ]
  },
  {
   "cell_type": "markdown",
   "metadata": {},
   "source": [
    "# MNIST Fully Connected Network Example\n",
    "This model and optimization is taken from `framework_exercise.ipynb` as an example for a typical pipeline using the framework files."
   ]
  },
  {
   "cell_type": "code",
   "execution_count": null,
   "metadata": {
    "collapsed": false
   },
   "outputs": [],
   "source": [
    "# Design a three hidden layer architecture with dense layer\n",
    "# and ReLU as activation function\n",
    "def fcn_mnist_layer():\n",
    "    flat = Flatten()\n",
    "    hidden_01 = FullyConnected(784, 500)\n",
    "    relu_01 = ReLU()\n",
    "    hidden_02 = FullyConnected(500, 200)\n",
    "    relu_02 = ReLU()\n",
    "    hidden_03 = FullyConnected(200, 100)\n",
    "    relu_03 = ReLU()\n",
    "    ouput = FullyConnected(100, 10)\n",
    "    return [flat, hidden_01, relu_01, hidden_02, relu_02, hidden_03, relu_03, ouput]\n",
    "\n",
    "# create a neural network on specified architecture with softmax as score function\n",
    "fcn_mnist = NeuralNetwork(fcn_mnist_layer(), score_func=LossCriteria.softmax)\n",
    "\n",
    "# optimize the network and a softmax loss\n",
    "fcn_mnist = Optimizer.sgd(fcn_mnist, mnist_train_images_small, mnist_train_labels_small, LossCriteria.cross_entropy_softmax, batch_size=64, epoch=10, learning_rate=0.01, X_test=mnist_test_images_small, y_test=mnist_test_labels_small, verbose=True)"
   ]
  },
  {
   "cell_type": "markdown",
   "metadata": {},
   "source": [
    "# MNIST Experiments\n",
    "## Convolutional Neural Network"
   ]
  },
  {
   "cell_type": "code",
   "execution_count": null,
   "metadata": {
    "collapsed": false
   },
   "outputs": [],
   "source": [
    "# Design a one hidden layer architecture with conv layer\n",
    "# and ReLU as activation function\n",
    "def cnn_mnist_layer():\n",
    "    hidden_01 = Conv(mnist_train_images_small.shape, 1, 3, 1, True)\n",
    "    relu_01 = ReLU()\n",
    "    flat = Flatten()\n",
    "    hidden_02 = FullyConnected(784, 200)\n",
    "    relu_02 = ReLU()\n",
    "    ouput = FullyConnected(200, 10)\n",
    "    return [hidden_01, relu_01, flat, hidden_02, relu_02, ouput]\n",
    "\n",
    "# create a neural network on specified architecture with softmax as score function\n",
    "cnn_mnist = NeuralNetwork(cnn_mnist_layer(), score_func=LossCriteria.softmax)\n",
    "\n",
    "# optimize the network and a softmax loss\n",
    "cnn_mnist = Optimizer.sgd(cnn_mnist, mnist_train_images_small, mnist_train_labels_small, LossCriteria.cross_entropy_softmax, batch_size=64, epoch=10, learning_rate=0.01, X_test=mnist_test_images_small, y_test=mnist_test_labels_small, verbose=True)"
   ]
  },
  {
   "cell_type": "markdown",
   "metadata": {},
   "source": [
    "## Convolutional Neural Network with He nomal initalization for Conv Layer (instead of Glorot normal)"
   ]
  },
  {
   "cell_type": "code",
   "execution_count": null,
   "metadata": {
    "collapsed": false
   },
   "outputs": [],
   "source": [
    "# Design a one hidden layer architecture with conv layer, and ReLU as activation \n",
    "# function and he initalization\n",
    "def cnn_he_mnist_layer():\n",
    "    hidden_01 = Conv(mnist_train_images_small.shape, 1, 3, 1, True, w_initializer=Initializer.he_normal)\n",
    "    relu_01 = ReLU()\n",
    "    flat = Flatten()\n",
    "    hidden_02 = FullyConnected(784, 200)\n",
    "    relu_02 = ReLU()\n",
    "    ouput = FullyConnected(200, 10)\n",
    "    return [hidden_01, relu_01, flat, hidden_02, relu_02, ouput]\n",
    "\n",
    "# create a neural network on specified architecture with softmax as score function\n",
    "cnn_he_mnist = NeuralNetwork(cnn_he_mnist_layer(), score_func=LossCriteria.softmax)\n",
    "\n",
    "# optimize the network and a softmax loss\n",
    "cnn_he_mnist = Optimizer.sgd(cnn_he_mnist, mnist_train_images_small, mnist_train_labels_small, LossCriteria.cross_entropy_softmax, batch_size=64, epoch=10, learning_rate=0.01, X_test=mnist_test_images_small, y_test=mnist_test_labels_small, verbose=True)"
   ]
  },
  {
   "cell_type": "markdown",
   "metadata": {},
   "source": [
    "## Convolutional Neural Network with Pooling"
   ]
  },
  {
   "cell_type": "code",
   "execution_count": null,
   "metadata": {
    "collapsed": false
   },
   "outputs": [],
   "source": [
    "# Design a one hidden layer architecture with conv layer, pooling layer\n",
    "# and ReLU as activation function\n",
    "def cnn_pool_mnist_layer():\n",
    "    hidden_01 = Conv(mnist_train_images_small.shape, 1, 3, 1, True)\n",
    "    relu_01 = ReLU()\n",
    "    pool = Pool(mnist_train_images_small.shape, np.max, 2, 1)\n",
    "    flat = Flatten()\n",
    "    ouput = FullyConnected(729, 10)\n",
    "    return [hidden_01, relu_01, pool, flat, ouput]\n",
    "\n",
    "# create a neural network on specified architecture with softmax as score function\n",
    "cnn_pool_mnist = NeuralNetwork(cnn_pool_mnist_layer(), score_func=LossCriteria.softmax)\n",
    "\n",
    "# optimize the network and a softmax loss\n",
    "cnn_pool_mnist = Optimizer.sgd(cnn_pool_mnist, mnist_train_images_small, mnist_train_labels_small, LossCriteria.cross_entropy_softmax, batch_size=64, epoch=20, learning_rate=0.01, X_test=mnist_test_images_small, y_test=mnist_test_labels_small, verbose=True)"
   ]
  },
  {
   "cell_type": "markdown",
   "metadata": {},
   "source": [
    "## Fully Conected Neural Network with Dropout"
   ]
  },
  {
   "cell_type": "code",
   "execution_count": null,
   "metadata": {
    "collapsed": false
   },
   "outputs": [],
   "source": [
    "# Design a two hidden layer architecture with dense layer, dropout layer\n",
    "# and ReLU as activation function\n",
    "def fcn_dropout_mnist_layer():\n",
    "    flat = Flatten()\n",
    "    hidden_01 = FullyConnected(784, 500)\n",
    "    relu_01 = ReLU()\n",
    "    dropout = Dropout()\n",
    "    hidden_02 = FullyConnected(500, 100)\n",
    "    relu_02 = ReLU()\n",
    "    ouput = FullyConnected(100, 10)\n",
    "    return [flat, hidden_01, relu_01, dropout, hidden_02, relu_02, ouput]\n",
    "\n",
    "# create a neural network on specified architecture with softmax as score function\n",
    "fcn_dropout_mnist = NeuralNetwork(fcn_dropout_mnist_layer(), score_func=LossCriteria.softmax)\n",
    "\n",
    "# optimize the network and a softmax loss\n",
    "fcn_dropout_mnist = Optimizer.sgd(fcn_dropout_mnist, mnist_train_images_small, mnist_train_labels_small, LossCriteria.cross_entropy_softmax, batch_size=64, epoch=10, learning_rate=0.01, X_test=mnist_test_images_small, y_test=mnist_test_labels_small, verbose=True)"
   ]
  },
  {
   "cell_type": "markdown",
   "metadata": {},
   "source": [
    "## Fully Conected Neural Network with Leaky ReLU"
   ]
  },
  {
   "cell_type": "code",
   "execution_count": null,
   "metadata": {
    "collapsed": false
   },
   "outputs": [],
   "source": [
    "# Design a three hidden layer architecture with dense layer\n",
    "# and Leaky ReLU as activation function\n",
    "def fcn_leaky_relu_mnist_layer():\n",
    "    flat = Flatten()\n",
    "    hidden_01 = FullyConnected(784, 500)\n",
    "    leaky_relu_01 = LeakyReLU()\n",
    "    hidden_02 = FullyConnected(500, 200)\n",
    "    leaky_relu_02 = LeakyReLU()\n",
    "    hidden_03 = FullyConnected(200, 100)\n",
    "    leaky_relu_03 = LeakyReLU()\n",
    "    ouput = FullyConnected(100, 10)\n",
    "    return [flat, hidden_01, leaky_relu_01, hidden_02, leaky_relu_02, hidden_03, leaky_relu_03, ouput]\n",
    "\n",
    "# create a neural network on specified architecture with softmax as score function\n",
    "fcn_leaky_relu_mnist = NeuralNetwork(fcn_leaky_relu_mnist_layer(), score_func=LossCriteria.softmax)\n",
    "\n",
    "# optimize the network and a softmax loss\n",
    "fcn_leaky_relu_mnist = Optimizer.sgd(fcn_leaky_relu_mnist, mnist_train_images_small, mnist_train_labels_small, LossCriteria.cross_entropy_softmax, batch_size=64, epoch=10, learning_rate=0.01, X_test=mnist_test_images_small, y_test=mnist_test_labels_small, verbose=True)"
   ]
  },
  {
   "cell_type": "markdown",
   "metadata": {},
   "source": [
    "## Fully Conected Neural Network with Sigmoid and Xavier Initialization"
   ]
  },
  {
   "cell_type": "code",
   "execution_count": null,
   "metadata": {
    "collapsed": false
   },
   "outputs": [],
   "source": [
    "# Design a three hidden layer architecture with dense layer, sigmoid as activation function\n",
    "# and xavier initialization\n",
    "def fcn_sigmoid_mnist_layer():\n",
    "    flat = Flatten()\n",
    "    hidden_01 = FullyConnected(784, 500, w_initializer=Initializer.xavier_normal)\n",
    "    sigmoid_01 = sigmoid()\n",
    "    hidden_02 = FullyConnected(500, 200, w_initializer=Initializer.xavier_normal)\n",
    "    sigmoid_02 = sigmoid()\n",
    "    hidden_03 = FullyConnected(200, 100, w_initializer=Initializer.xavier_normal)\n",
    "    sigmoid_03 = sigmoid()\n",
    "    ouput = FullyConnected(100, 10)\n",
    "    return [flat, hidden_01, sigmoid_01, hidden_02, sigmoid_02, hidden_03, sigmoid_03, ouput]\n",
    "\n",
    "# create a neural network on specified architecture with softmax as score function\n",
    "fcn_sigmoid_mnist = NeuralNetwork(fcn_sigmoid_mnist_layer(), score_func=LossCriteria.softmax)\n",
    "\n",
    "# optimize the network and a softmax loss\n",
    "fcn_sigmoid_mnist = Optimizer.sgd(fcn_sigmoid_mnist, mnist_train_images_small, mnist_train_labels_small, LossCriteria.cross_entropy_softmax, batch_size=64, epoch=10, learning_rate=0.01, X_test=mnist_test_images_small, y_test=mnist_test_labels_small, verbose=True)"
   ]
  },
  {
   "cell_type": "markdown",
   "metadata": {},
   "source": [
    "## Fully Conected Neural Network with Tanh and Xavier Initialization"
   ]
  },
  {
   "cell_type": "code",
   "execution_count": null,
   "metadata": {
    "collapsed": false
   },
   "outputs": [],
   "source": [
    "# Design a three hidden layer architecture with dense layer, tanh as activation function\n",
    "# and xavier initialization\n",
    "def fcn_tanh_mnist_layer():\n",
    "    flat = Flatten()\n",
    "    hidden_01 = FullyConnected(784, 500, w_initializer=Initializer.xavier_normal)\n",
    "    tanh_01 = tanh()\n",
    "    hidden_02 = FullyConnected(500, 200, w_initializer=Initializer.xavier_normal)\n",
    "    tanh_02 = tanh()\n",
    "    hidden_03 = FullyConnected(200, 100, w_initializer=Initializer.xavier_normal)\n",
    "    tanh_03 = tanh()\n",
    "    ouput = FullyConnected(100, 10)\n",
    "    return [flat, hidden_01, tanh_01, hidden_02, tanh_02, hidden_03, tanh_03, ouput]\n",
    "\n",
    "# create a neural network on specified architecture with softmax as score function\n",
    "fcn_tanh_mnist = NeuralNetwork(fcn_tanh_mnist_layer(), score_func=LossCriteria.softmax)\n",
    "\n",
    "# optimize the network and a softmax loss\n",
    "fcn_tanh_mnist = Optimizer.sgd(fcn_tanh_mnist, mnist_train_images_small, mnist_train_labels_small, LossCriteria.cross_entropy_softmax, batch_size=64, epoch=10, learning_rate=0.01, X_test=mnist_test_images_small, y_test=mnist_test_labels_small, verbose=True)"
   ]
  },
  {
   "cell_type": "markdown",
   "metadata": {},
   "source": [
    "## Fully Conected Neural Network with SGD Momentum"
   ]
  },
  {
   "cell_type": "code",
   "execution_count": null,
   "metadata": {
    "collapsed": false
   },
   "outputs": [],
   "source": [
    "# Design a three hidden layer architecture with dense layer\n",
    "# and ReLU as activation function\n",
    "def fcn_mnist_layer():\n",
    "    flat = Flatten()\n",
    "    hidden_01 = FullyConnected(784, 500)\n",
    "    relu_01 = ReLU()\n",
    "    hidden_02 = FullyConnected(500, 200)\n",
    "    relu_02 = ReLU()\n",
    "    hidden_03 = FullyConnected(200, 100)\n",
    "    relu_03 = ReLU()\n",
    "    ouput = FullyConnected(100, 10)\n",
    "    return [flat, hidden_01, relu_01, hidden_02, relu_02, hidden_03, relu_03, ouput]\n",
    "\n",
    "# create a neural network on specified architecture with softmax as score function\n",
    "fcn_mnist = NeuralNetwork(fcn_mnist_layer(), score_func=LossCriteria.softmax)\n",
    "\n",
    "# optimize the network with sgd momentum and a softmax loss\n",
    "fcn_mnist = Optimizer.sgd_momentum(fcn_mnist, mnist_train_images_small, mnist_train_labels_small, LossCriteria.cross_entropy_softmax, batch_size=64, epoch=10, learning_rate=0.01, X_test=mnist_test_images_small, y_test=mnist_test_labels_small, verbose=True)"
   ]
  },
  {
   "cell_type": "markdown",
   "metadata": {},
   "source": [
    "## Fully Conected Neural Network with RMSProp"
   ]
  },
  {
   "cell_type": "code",
   "execution_count": null,
   "metadata": {
    "collapsed": false
   },
   "outputs": [],
   "source": [
    "# Design a three hidden layer architecture with dense layer\n",
    "# and ReLU as activation function\n",
    "def fcn_mnist_layer():\n",
    "    flat = Flatten()\n",
    "    hidden_01 = FullyConnected(784, 500)\n",
    "    relu_01 = ReLU()\n",
    "    hidden_02 = FullyConnected(500, 200)\n",
    "    relu_02 = ReLU()\n",
    "    hidden_03 = FullyConnected(200, 100)\n",
    "    relu_03 = ReLU()\n",
    "    ouput = FullyConnected(100, 10)\n",
    "    return [flat, hidden_01, relu_01, hidden_02, relu_02, hidden_03, relu_03, ouput]\n",
    "\n",
    "# create a neural network on specified architecture with softmax as score function\n",
    "fcn_mnist = NeuralNetwork(fcn_mnist_layer(), score_func=LossCriteria.softmax)\n",
    "\n",
    "# optimize the network and a softmax loss\n",
    "fcn_mnist = Optimizer.rmsprop(fcn_mnist, mnist_train_images_small, mnist_train_labels_small, LossCriteria.cross_entropy_softmax, batch_size=64, epoch=10, learning_rate=0.01, X_test=mnist_test_images_small, y_test=mnist_test_labels_small, verbose=True)"
   ]
  },
  {
   "cell_type": "markdown",
   "metadata": {},
   "source": [
    "## Fully Conected Neural Network with Adam"
   ]
  },
  {
   "cell_type": "code",
   "execution_count": null,
   "metadata": {
    "collapsed": false
   },
   "outputs": [],
   "source": [
    "# Design a three hidden layer architecture with dense layer\n",
    "# and ReLU as activation function\n",
    "def fcn_mnist_layer():\n",
    "    flat = Flatten()\n",
    "    hidden_01 = FullyConnected(784, 500)\n",
    "    relu_01 = ReLU()\n",
    "    hidden_02 = FullyConnected(500, 200)\n",
    "    relu_02 = ReLU()\n",
    "    hidden_03 = FullyConnected(200, 100)\n",
    "    relu_03 = ReLU()\n",
    "    ouput = FullyConnected(100, 10)\n",
    "    return [flat, hidden_01, relu_01, hidden_02, relu_02, hidden_03, relu_03, ouput]\n",
    "\n",
    "# create a neural network on specified architecture with softmax as score function\n",
    "fcn_mnist = NeuralNetwork(fcn_mnist_layer(), score_func=LossCriteria.softmax)\n",
    "\n",
    "# optimize the network and a softmax loss\n",
    "fcn_mnist = Optimizer.adam(fcn_mnist, mnist_train_images_small, mnist_train_labels_small, LossCriteria.cross_entropy_softmax, batch_size=64, epoch=10, learning_rate=0.01, X_test=mnist_test_images_small, y_test=mnist_test_labels_small, verbose=True)"
   ]
  },
  {
   "cell_type": "markdown",
   "metadata": {},
   "source": [
    "# CIFAR10 Experiments\n",
    "## Fully Connected Network"
   ]
  },
  {
   "cell_type": "code",
   "execution_count": null,
   "metadata": {
    "collapsed": false
   },
   "outputs": [],
   "source": [
    "# Design a three hidden layer architecture with dense layer\n",
    "# and ReLU as activation function\n",
    "def fcn_cifar_layer():\n",
    "    flat = Flatten()\n",
    "    hidden_01 = FullyConnected(3072, 500)\n",
    "    relu_01 = ReLU()\n",
    "    hidden_02 = FullyConnected(500, 200)\n",
    "    relu_02 = ReLU()\n",
    "    hidden_03 = FullyConnected(200, 100)\n",
    "    relu_03 = ReLU()\n",
    "    ouput = FullyConnected(100, 10)\n",
    "    return [flat, hidden_01, relu_01, hidden_02, relu_02, hidden_03, relu_03, ouput]\n",
    "\n",
    "# create a neural network on specified architecture with softmax as score function\n",
    "fcn_cifar = NeuralNetwork(fcn_cifar_layer(), score_func=LossCriteria.softmax)\n",
    "\n",
    "# optimize the network and a softmax loss\n",
    "fcn_cifar = Optimizer.sgd(fcn_cifar, cifar_train_images_small, cifar_train_labels_small, LossCriteria.cross_entropy_softmax, batch_size=64, epoch=10, learning_rate=0.01, X_test=cifar_test_images_small, y_test=cifar_test_labels_small, verbose=True)"
   ]
  },
  {
   "cell_type": "markdown",
   "metadata": {},
   "source": [
    "## Convolutional Neural Network"
   ]
  },
  {
   "cell_type": "code",
   "execution_count": null,
   "metadata": {
    "collapsed": false
   },
   "outputs": [],
   "source": [
    "# Design a one hidden layer architecture with conv layer\n",
    "# and ReLU as activation function\n",
    "def cnn_cifar_layer():\n",
    "    conv = Conv(cifar_train_images_small.shape, 1, 3, 1, True)\n",
    "    relu_01 = ReLU()\n",
    "    flat = Flatten()\n",
    "    ouput = FullyConnected(1024, 10)\n",
    "    return [conv, relu_01, flat, ouput]\n",
    "\n",
    "# create a neural network on specified architecture with softmax as score function\n",
    "cnn_cifar = NeuralNetwork(cnn_cifar_layer(), score_func=LossCriteria.softmax)\n",
    "\n",
    "# optimize the network and a softmax loss\n",
    "cnn_cifar = Optimizer.sgd(cnn_cifar, cifar_train_images_small, cifar_train_labels_small, LossCriteria.cross_entropy_softmax, batch_size=32, epoch=10, learning_rate=0.01, X_test=cifar_test_images_small, y_test=cifar_test_labels_small, verbose=True)"
   ]
  },
  {
   "cell_type": "markdown",
   "metadata": {},
   "source": [
    "## Convolutional Neural Network with Pooling"
   ]
  },
  {
   "cell_type": "code",
   "execution_count": null,
   "metadata": {
    "collapsed": false
   },
   "outputs": [],
   "source": [
    "def cnn_pool_cifar_layer():\n",
    "    conv = Conv(cifar_train_images_small.shape, 1, 3, 1, True)\n",
    "    relu_01 = ReLU()\n",
    "    pool = Pool(cifar_train_images_small.shape, np.max, 2, 1)\n",
    "    flat = Flatten()\n",
    "    ouput = FullyConnected(961, 10)\n",
    "    return [conv, relu_01, pool, flat, ouput]\n",
    "\n",
    "# create a neural network on specified architecture with softmax as score function\n",
    "cnn_pool_cifar = NeuralNetwork(cnn_pool_cifar_layer(), score_func=LossCriteria.softmax)\n",
    "\n",
    "# optimize the network and a softmax loss\n",
    "cnn_pool_cifar = Optimizer.sgd(cnn_pool_cifar, cifar_train_images_small, cifar_train_labels_small, LossCriteria.cross_entropy_softmax, batch_size=64, epoch=10, learning_rate=0.01, X_test=cifar_test_images_small, y_test=cifar_test_labels_small, verbose=True)"
   ]
  },
  {
   "cell_type": "markdown",
   "metadata": {},
   "source": [
    "## Fully Conected Neural Network with Dropout"
   ]
  },
  {
   "cell_type": "code",
   "execution_count": null,
   "metadata": {
    "collapsed": false
   },
   "outputs": [],
   "source": [
    "# Design a two hidden layer architecture with dense layer, dropout layer\n",
    "# and ReLU as activation function\n",
    "def fcn_dropout_cifar_layer():\n",
    "    flat = Flatten()\n",
    "    hidden_01 = FullyConnected(3072, 500)\n",
    "    relu_01 = ReLU()\n",
    "    dropout = Dropout()\n",
    "    hidden_02 = FullyConnected(500, 100)\n",
    "    relu_02 = ReLU()\n",
    "    ouput = FullyConnected(100, 10)\n",
    "    return [flat, hidden_01, relu_01, dropout, hidden_02, relu_02, ouput]\n",
    "\n",
    "# create a neural network on specified architecture with softmax as score function\n",
    "fcn_dropout_cifar = NeuralNetwork(fcn_dropout_cifar_layer(), score_func=LossCriteria.softmax)\n",
    "\n",
    "# optimize the network and a softmax loss\n",
    "fcn_dropout_cifar = Optimizer.sgd(fcn_dropout_cifar, cifar_train_images_small, cifar_train_labels_small, LossCriteria.cross_entropy_softmax, batch_size=64, epoch=10, learning_rate=0.01, X_test=cifar_test_images_small, y_test=cifar_test_labels_small, verbose=True)"
   ]
  },
  {
   "cell_type": "code",
   "execution_count": null,
   "metadata": {
    "collapsed": true
   },
   "outputs": [],
   "source": []
  }
 ],
 "metadata": {
  "kernelspec": {
   "display_name": "Python 3",
   "language": "python",
   "name": "python3"
  },
  "language_info": {
   "codemirror_mode": {
    "name": "ipython",
    "version": 3
   },
   "file_extension": ".py",
   "mimetype": "text/x-python",
   "name": "python",
   "nbconvert_exporter": "python",
   "pygments_lexer": "ipython3",
   "version": "3.6.0"
  }
 },
 "nbformat": 4,
 "nbformat_minor": 2
}
