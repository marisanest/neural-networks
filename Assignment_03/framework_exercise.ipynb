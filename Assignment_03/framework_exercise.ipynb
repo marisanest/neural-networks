{
 "cells": [
  {
   "cell_type": "markdown",
   "metadata": {},
   "source": [
    "# ML-Fundamentals - Neural Networks - Exercise: Neural Network Framework"
   ]
  },
  {
   "cell_type": "markdown",
   "metadata": {},
   "source": [
    "# Tasks\n",
    "Your main goal is to extend the existing framework, to perform experiments with different model combinations and to document your observations. Here is a list of necessary tasks and some ideas for additional points:\n",
    "  * (6) Write a data loader for a different image dataset, e.g., CIFAR or Labelled Faces in the Wild. Feel free to search a dataset you like to classify. Create and train a simple fully connected network on that dataset in this notebook.\n",
    "  * (10) Implement the `Conv` and `Pool` Layer in `layer.py`. Create and train a convolutional neural network on Mnist and your chosen dataset in this notebook.\n",
    "\n",
    "Bonus points\n",
    "  * (5) 1 to 5 points are given for improving the class and method comments in the framework files. Points are given based on the quality and quantity of the comments.\n",
    "  * (1) For each additional implemented activation functions in `activation_func.py` you get 1 bonus point (max 4 points). Test your implementation in this notebook and observe effects on your networks. Keep an eye on your layer initialization.\n",
    "  * (2) Implement `Dropout` in `layer.py` and test your implementation with a toy example. Create and train a model that includes Dropout as a layer.\n",
    "  * (5) Implement `Batchnorm` in `layer.py` and test your implementation with a toy example. Create and train a model that includes Dropout as a layer.\n",
    "  * (4) Implement another optimization algorithm in `optimizer.py`. Train one of your models with that new optimizer.\n",
    "  * (5) Do something extra, up to 5 points.  \n",
    "  \n",
    "Please document thoroughly and explain what you do in your experiments, so that work in the notebook is comprehensible, else no points are given."
   ]
  },
  {
   "cell_type": "markdown",
   "metadata": {},
   "source": [
    "Fragen\n",
    "* Sollen wir nur für Pool Layer nur Max forward und backward implementieren? Falls nein, wie solen wir das mit der backward implementierung machen?\n",
    "* Siehe in layers.py: \n",
    "    * In Pooling.backward: What is if not only one pixel has the max value?\n",
    "    * In Conv Layer: soll zu jedem Pixel bias hinzugefügt werden oder erst nach sum?\n",
    "    * In Dropout: maske für alle images gleich oder für jedes eine andere? Und wie sollen wir damit umgehen, wenn wir vorhersagen wollen?\n",
    "    * Braucht man nach Dropout oder Pool Layer eine Aktivierungsfunktion?\n",
    "    * Pooling Layer gibt immer gleichen loss zurück, woran kann das liegen?"
   ]
  },
  {
   "cell_type": "markdown",
   "metadata": {},
   "source": [
    "# Requirements"
   ]
  },
  {
   "cell_type": "markdown",
   "metadata": {},
   "source": [
    "## Python-Modules"
   ]
  },
  {
   "cell_type": "code",
   "execution_count": 1,
   "metadata": {},
   "outputs": [],
   "source": [
    "%load_ext autoreload\n",
    "%autoreload 2\n",
    "# custom \n",
    "from htw_nn_framework.networks import NeuralNetwork\n",
    "from htw_nn_framework.layer import *\n",
    "from htw_nn_framework.activation_func import *\n",
    "from htw_nn_framework.loss_func import *\n",
    "from htw_nn_framework.optimizer import *\n",
    "from htw_nn_framework.cifar import *\n",
    "from htw_nn_framework.initializer import *\n",
    "\n",
    "# third party\n",
    "from deep_teaching_commons.data.fundamentals.mnist import Mnist\n",
    "import numpy as np"
   ]
  },
  {
   "cell_type": "markdown",
   "metadata": {},
   "source": [
    "## Data"
   ]
  },
  {
   "cell_type": "code",
   "execution_count": 2,
   "metadata": {},
   "outputs": [
    {
     "name": "stdout",
     "output_type": "stream",
     "text": [
      "auto download is active, attempting download\n",
      "mnist data directory already exists, download aborted\n",
      "(60000, 28, 28) (60000,)\n",
      "(60000, 1, 28, 28) (60000,)\n"
     ]
    }
   ],
   "source": [
    "# create mnist loader from deep_teaching_commons\n",
    "mnist_loader = Mnist(data_dir='data')\n",
    "\n",
    "# load all data, labels are one-hot-encoded, images are flatten and pixel squashed between [0,1]\n",
    "train_images, train_labels, test_images, test_labels = mnist_loader.get_all_data(flatten=False, one_hot_enc=False, normalized=True)\n",
    "print(train_images.shape, train_labels.shape)\n",
    "\n",
    "# reshape to match generell framework architecture \n",
    "train_images, test_images = train_images.reshape(60000, 1, 28, 28), test_images.reshape(10000, 1, 28, 28)            \n",
    "print(train_images.shape, train_labels.shape)\n",
    "\n",
    "# shuffle training data\n",
    "shuffle_index = np.random.permutation(60000)\n",
    "train_images, train_labels = train_images[shuffle_index], train_labels[shuffle_index]"
   ]
  },
  {
   "cell_type": "markdown",
   "metadata": {},
   "source": [
    "# MNIST Fully Connected Network Example\n",
    "This model and optimization is taken from `framework_exercise.ipynb` as an example for a typical pipeline using the framework files."
   ]
  },
  {
   "cell_type": "code",
   "execution_count": 3,
   "metadata": {},
   "outputs": [],
   "source": [
    "train_images_batch, train_labels_batch, test_images_batch, test_labels_batch = train_images[:100,:,:,:], train_labels[:100], test_images[:100,:,:,:], test_labels[:100]"
   ]
  },
  {
   "cell_type": "code",
   "execution_count": 4,
   "metadata": {},
   "outputs": [
    {
     "name": "stdout",
     "output_type": "stream",
     "text": [
      "Epoch 1\n",
      "Loss = 2.3364738791479858 :: Training = 0.13 :: Test = 0.16\n",
      "Epoch 2\n",
      "Loss = 2.0272483809532784 :: Training = 0.37 :: Test = 0.16\n",
      "Epoch 3\n",
      "Loss = 2.193337858230821 :: Training = 0.51 :: Test = 0.51\n",
      "Epoch 4\n",
      "Loss = 1.3557988884971797 :: Training = 0.79 :: Test = 0.65\n",
      "Epoch 5\n",
      "Loss = 0.8306299892125698 :: Training = 0.77 :: Test = 0.54\n",
      "Epoch 6\n",
      "Loss = 2.1740561027037675 :: Training = 0.46 :: Test = 0.41\n",
      "Epoch 7\n",
      "Loss = 2.013534465468906 :: Training = 0.56 :: Test = 0.39\n",
      "Epoch 8\n",
      "Loss = 0.9540863399348548 :: Training = 0.85 :: Test = 0.66\n",
      "Epoch 9\n",
      "Loss = 0.5767976726141201 :: Training = 0.81 :: Test = 0.65\n",
      "Epoch 10\n",
      "Loss = 0.5009758424512314 :: Training = 0.95 :: Test = 0.69\n"
     ]
    }
   ],
   "source": [
    "# Design a three hidden layer architecture with dense layer\n",
    "# and ReLU as activation function\n",
    "def fcn_mnist():\n",
    "    flat = Flatten()\n",
    "    hidden_01 = FullyConnected(784, 500)\n",
    "    relu_01 = ReLU()\n",
    "    hidden_02 = FullyConnected(500, 200)\n",
    "    relu_02 = ReLU()\n",
    "    hidden_03 = FullyConnected(200, 100)\n",
    "    relu_03 = ReLU()\n",
    "    ouput = FullyConnected(100, 10)\n",
    "    return [flat, hidden_01, relu_01, hidden_02, relu_02, hidden_03, relu_03, ouput]\n",
    "\n",
    "# create a neural network on specified architecture with softmax as score function\n",
    "fcn = NeuralNetwork(fcn_mnist(), score_func=LossCriteria.softmax)\n",
    "\n",
    "# optimize the network and a softmax loss\n",
    "fcn = Optimizer.sgd(fcn, train_images_batch, train_labels_batch, LossCriteria.cross_entropy_softmax, batch_size=64, epoch=10, learning_rate=0.01, X_test=test_images_batch, y_test=test_labels_batch, verbose=True)"
   ]
  },
  {
   "cell_type": "markdown",
   "metadata": {},
   "source": [
    "# Todo: Your Extensions and Experiments\n",
    "# MNIST\n",
    "## Convolutional Neural Network"
   ]
  },
  {
   "cell_type": "code",
   "execution_count": 5,
   "metadata": {},
   "outputs": [
    {
     "name": "stdout",
     "output_type": "stream",
     "text": [
      "Epoch 1\n",
      "Loss = 2.304337018828493 :: Training = 0.21 :: Test = 0.08\n",
      "Epoch 2\n",
      "Loss = 2.2638550200719196 :: Training = 0.2 :: Test = 0.09\n",
      "Epoch 3\n",
      "Loss = 2.14215034329222 :: Training = 0.46 :: Test = 0.17\n",
      "Epoch 4\n",
      "Loss = 2.2382018859818853 :: Training = 0.15 :: Test = 0.07\n",
      "Epoch 5\n",
      "Loss = 2.2934995505407887 :: Training = 0.15 :: Test = 0.07\n",
      "Epoch 6\n",
      "Loss = 2.2946863213449706 :: Training = 0.15 :: Test = 0.07\n",
      "Epoch 7\n",
      "Loss = 2.295984899810657 :: Training = 0.15 :: Test = 0.07\n",
      "Epoch 8\n",
      "Loss = 2.2973857901683608 :: Training = 0.15 :: Test = 0.07\n",
      "Epoch 9\n",
      "Loss = 2.2987866039692118 :: Training = 0.15 :: Test = 0.07\n",
      "Epoch 10\n",
      "Loss = 2.300079054682855 :: Training = 0.15 :: Test = 0.07\n"
     ]
    }
   ],
   "source": [
    "# Design a one hidden layer architecture with conv layer\n",
    "# and ReLU as activation function\n",
    "def cnn_mnist():\n",
    "    hidden_01 = Conv(train_images_batch.shape, 1, 3, 1, True)\n",
    "    relu_01 = ReLU()\n",
    "    flat = Flatten()\n",
    "    hidden_02 = FullyConnected(784, 1500)\n",
    "    relu_02 = ReLU()\n",
    "    ouput = FullyConnected(1500, 10)\n",
    "    return [hidden_01, relu_01, flat, hidden_02, relu_02, ouput]\n",
    "\n",
    "# create a neural network on specified architecture with softmax as score function\n",
    "cnn = NeuralNetwork(cnn_mnist(), score_func=LossCriteria.softmax)\n",
    "\n",
    "# optimize the network and a softmax loss\n",
    "cnn = Optimizer.sgd(cnn, train_images_batch, train_labels_batch, LossCriteria.cross_entropy_softmax, batch_size=64, epoch=10, learning_rate=0.01, X_test=test_images_batch, y_test=test_labels_batch, verbose=True)"
   ]
  },
  {
   "cell_type": "markdown",
   "metadata": {},
   "source": [
    "## Convolutional Neural Network with Pooling"
   ]
  },
  {
   "cell_type": "code",
   "execution_count": 6,
   "metadata": {},
   "outputs": [
    {
     "name": "stdout",
     "output_type": "stream",
     "text": [
      "Epoch 1\n",
      "Loss = 9.838239235428928 :: Training = 0.11 :: Test = 0.11\n",
      "Epoch 2\n",
      "Loss = 2.2907622739947784 :: Training = 0.15 :: Test = 0.07\n",
      "Epoch 3\n",
      "Loss = 2.290511825915284 :: Training = 0.15 :: Test = 0.07\n",
      "Epoch 4\n",
      "Loss = 2.2906626881965453 :: Training = 0.15 :: Test = 0.07\n",
      "Epoch 5\n",
      "Loss = 2.2911097407428156 :: Training = 0.15 :: Test = 0.07\n",
      "Epoch 6\n",
      "Loss = 2.2917685153074334 :: Training = 0.15 :: Test = 0.07\n",
      "Epoch 7\n",
      "Loss = 2.2925719955461403 :: Training = 0.15 :: Test = 0.07\n",
      "Epoch 8\n",
      "Loss = 2.2934677179302785 :: Training = 0.15 :: Test = 0.07\n",
      "Epoch 9\n",
      "Loss = 2.294415197992204 :: Training = 0.15 :: Test = 0.07\n",
      "Epoch 10\n",
      "Loss = 2.295383690377126 :: Training = 0.15 :: Test = 0.07\n",
      "Epoch 11\n",
      "Loss = 2.296350275024445 :: Training = 0.15 :: Test = 0.07\n",
      "Epoch 12\n",
      "Loss = 2.297298248956498 :: Training = 0.15 :: Test = 0.07\n",
      "Epoch 13\n",
      "Loss = 2.298215794699637 :: Training = 0.15 :: Test = 0.07\n",
      "Epoch 14\n",
      "Loss = 2.2990948920643 :: Training = 0.15 :: Test = 0.07\n",
      "Epoch 15\n",
      "Loss = 2.299930439032074 :: Training = 0.15 :: Test = 0.07\n",
      "Epoch 16\n",
      "Loss = 2.3007195488537286 :: Training = 0.15 :: Test = 0.07\n",
      "Epoch 17\n",
      "Loss = 2.301460993255249 :: Training = 0.15 :: Test = 0.07\n",
      "Epoch 18\n",
      "Loss = 2.3021547651676464 :: Training = 0.15 :: Test = 0.07\n",
      "Epoch 19\n",
      "Loss = 2.3028017381315156 :: Training = 0.15 :: Test = 0.07\n",
      "Epoch 20\n",
      "Loss = 2.3034034031483808 :: Training = 0.15 :: Test = 0.07\n"
     ]
    }
   ],
   "source": [
    "# Design a one hidden layer architecture with conv layer, pooling layer\n",
    "# and ReLU as activation function\n",
    "def cnn_pool_mnist():\n",
    "    hidden_01 = Conv(train_images_batch.shape, 1, 3, 1, True)\n",
    "    relu_01 = ReLU()\n",
    "    pool = Pool(train_images_batch.shape, np.max, 2, 1)\n",
    "    flat = Flatten()\n",
    "    ouput = FullyConnected(729, 10)\n",
    "    return [hidden_01, relu_01, pool, flat, ouput]\n",
    "\n",
    "# create a neural network on specified architecture with softmax as score function\n",
    "cnn_pool = NeuralNetwork(cnn_pool_mnist(), score_func=LossCriteria.softmax)\n",
    "\n",
    "# optimize the network and a softmax loss\n",
    "cnn_pool = Optimizer.sgd(cnn_pool, train_images_batch, train_labels_batch, LossCriteria.cross_entropy_softmax, batch_size=64, epoch=20, learning_rate=0.01, X_test=test_images_batch, y_test=test_labels_batch, verbose=True)"
   ]
  },
  {
   "cell_type": "markdown",
   "metadata": {},
   "source": [
    "## Fully Conected Neural Network with Dropout"
   ]
  },
  {
   "cell_type": "code",
   "execution_count": 7,
   "metadata": {},
   "outputs": [
    {
     "name": "stdout",
     "output_type": "stream",
     "text": [
      "Epoch 1\n",
      "Loss = 3.2722752812145584 :: Training = 0.37 :: Test = 0.27\n",
      "Epoch 2\n",
      "Loss = 2.072553360792204 :: Training = 0.54 :: Test = 0.33\n",
      "Epoch 3\n",
      "Loss = 2.1560332106372146 :: Training = 0.53 :: Test = 0.38\n",
      "Epoch 4\n",
      "Loss = 3.7683582115401086 :: Training = 0.22 :: Test = 0.11\n",
      "Epoch 5\n",
      "Loss = 3.9531304728098147 :: Training = 0.3 :: Test = 0.25\n",
      "Epoch 6\n",
      "Loss = 1.9102260490358134 :: Training = 0.52 :: Test = 0.4\n",
      "Epoch 7\n",
      "Loss = 1.9088210835779809 :: Training = 0.58 :: Test = 0.34\n",
      "Epoch 8\n",
      "Loss = 1.561222744940665 :: Training = 0.72 :: Test = 0.62\n",
      "Epoch 9\n",
      "Loss = 1.0319520500645334 :: Training = 0.9 :: Test = 0.72\n",
      "Epoch 10\n",
      "Loss = 0.5116928893799273 :: Training = 0.95 :: Test = 0.74\n",
      "Epoch 11\n",
      "Loss = 0.6970934951951289 :: Training = 0.96 :: Test = 0.74\n",
      "Epoch 12\n",
      "Loss = 0.6559776133949877 :: Training = 0.88 :: Test = 0.66\n",
      "Epoch 13\n",
      "Loss = 0.5098367199151349 :: Training = 0.95 :: Test = 0.72\n",
      "Epoch 14\n",
      "Loss = 0.2584170402654539 :: Training = 1.0 :: Test = 0.75\n",
      "Epoch 15\n",
      "Loss = 0.45337824572705565 :: Training = 1.0 :: Test = 0.75\n",
      "Epoch 16\n",
      "Loss = 0.24353121085008547 :: Training = 0.93 :: Test = 0.69\n",
      "Epoch 17\n",
      "Loss = 0.33757404305908 :: Training = 0.95 :: Test = 0.75\n",
      "Epoch 18\n",
      "Loss = 0.12734127589206012 :: Training = 1.0 :: Test = 0.73\n",
      "Epoch 19\n",
      "Loss = 0.0992787409972603 :: Training = 1.0 :: Test = 0.76\n",
      "Epoch 20\n",
      "Loss = 0.08236177020688885 :: Training = 0.98 :: Test = 0.71\n"
     ]
    }
   ],
   "source": [
    "# Design a two hidden layer architecture with dense layer, dropout layer\n",
    "# and ReLU as activation function\n",
    "def fcn_dropout_mnist():\n",
    "    flat = Flatten()\n",
    "    hidden_01 = FullyConnected(784, 500)\n",
    "    relu_01 = ReLU()\n",
    "    dropout = Dropout()\n",
    "    hidden_02 = FullyConnected(500, 100)\n",
    "    relu_02 = ReLU()\n",
    "    ouput = FullyConnected(100, 10)\n",
    "    return [flat, hidden_01, relu_01, dropout, hidden_02, relu_02, ouput]\n",
    "\n",
    "# create a neural network on specified architecture with softmax as score function\n",
    "fcn_dropout = NeuralNetwork(fcn_dropout_mnist(), score_func=LossCriteria.softmax)\n",
    "\n",
    "# optimize the network and a softmax loss\n",
    "fcn_dropout = Optimizer.sgd(fcn_dropout, train_images_batch, train_labels_batch, LossCriteria.cross_entropy_softmax, batch_size=64, epoch=20, learning_rate=0.01, X_test=test_images_batch, y_test=test_labels_batch, verbose=True)"
   ]
  },
  {
   "cell_type": "markdown",
   "metadata": {},
   "source": [
    "# CIFAR10"
   ]
  },
  {
   "cell_type": "code",
   "execution_count": 8,
   "metadata": {},
   "outputs": [
    {
     "name": "stdout",
     "output_type": "stream",
     "text": [
      "Data already downloaded\n"
     ]
    }
   ],
   "source": [
    "Cifar.load()"
   ]
  },
  {
   "cell_type": "code",
   "execution_count": 9,
   "metadata": {},
   "outputs": [
    {
     "name": "stdout",
     "output_type": "stream",
     "text": [
      "/storage/neural-networks/Assignment_03/htw_nn_framework/cifar-10-batches-py/data_batch_1\n",
      "/storage/neural-networks/Assignment_03/htw_nn_framework/cifar-10-batches-py/data_batch_2\n",
      "/storage/neural-networks/Assignment_03/htw_nn_framework/cifar-10-batches-py/data_batch_3\n",
      "/storage/neural-networks/Assignment_03/htw_nn_framework/cifar-10-batches-py/data_batch_4\n",
      "/storage/neural-networks/Assignment_03/htw_nn_framework/cifar-10-batches-py/data_batch_5\n"
     ]
    }
   ],
   "source": [
    "tr_images, tr_labels, te_images, te_labels = Cifar.get()"
   ]
  },
  {
   "cell_type": "code",
   "execution_count": 10,
   "metadata": {},
   "outputs": [],
   "source": [
    "# shuffle training data\n",
    "shuffle_index = np.random.permutation(len(tr_images))\n",
    "tr_images, tr_labels = tr_images[shuffle_index], tr_labels[shuffle_index]\n",
    "\n",
    "tr_images_batch, tr_labels_batch, te_images_batch, te_labels_batch = tr_images[:100,:,:,:], tr_labels[:100], te_images[:100,:,:,:], te_labels[:100]"
   ]
  },
  {
   "cell_type": "markdown",
   "metadata": {},
   "source": [
    "## Fully Connected Network"
   ]
  },
  {
   "cell_type": "code",
   "execution_count": 11,
   "metadata": {},
   "outputs": [
    {
     "name": "stdout",
     "output_type": "stream",
     "text": [
      "Epoch 1\n",
      "Loss = inf :: Training = 0.05 :: Test = 0.11\n",
      "Epoch 2\n",
      "Loss = inf :: Training = 0.16 :: Test = 0.11\n",
      "Epoch 3\n"
     ]
    },
    {
     "name": "stderr",
     "output_type": "stream",
     "text": [
      "/storage/neural-networks/Assignment_03/htw_nn_framework/loss_func.py:22: RuntimeWarning: divide by zero encountered in log\n",
      "  log_likelihood = -np.log(p[range(m), y])\n"
     ]
    },
    {
     "name": "stdout",
     "output_type": "stream",
     "text": [
      "Loss = 2.340927595804878 :: Training = 0.12 :: Test = 0.1\n",
      "Epoch 4\n",
      "Loss = 2.350726080536907 :: Training = 0.12 :: Test = 0.1\n",
      "Epoch 5\n",
      "Loss = 2.360355980771642 :: Training = 0.12 :: Test = 0.1\n",
      "Epoch 6\n",
      "Loss = 2.3696593427873043 :: Training = 0.12 :: Test = 0.1\n",
      "Epoch 7\n",
      "Loss = 2.3785246537519305 :: Training = 0.12 :: Test = 0.1\n",
      "Epoch 8\n",
      "Loss = 2.3868788654599373 :: Training = 0.16 :: Test = 0.11\n",
      "Epoch 9\n",
      "Loss = 2.394679957935995 :: Training = 0.16 :: Test = 0.11\n",
      "Epoch 10\n",
      "Loss = 2.4019102310508353 :: Training = 0.16 :: Test = 0.11\n",
      "Epoch 11\n",
      "Loss = 2.4085704442111684 :: Training = 0.16 :: Test = 0.11\n",
      "Epoch 12\n",
      "Loss = 2.414674850345958 :: Training = 0.16 :: Test = 0.11\n",
      "Epoch 13\n",
      "Loss = 2.420247106955406 :: Training = 0.16 :: Test = 0.11\n",
      "Epoch 14\n",
      "Loss = 2.4253170008146796 :: Training = 0.16 :: Test = 0.11\n",
      "Epoch 15\n",
      "Loss = 2.429917894796839 :: Training = 0.16 :: Test = 0.11\n",
      "Epoch 16\n",
      "Loss = 2.4340847926112423 :: Training = 0.16 :: Test = 0.11\n",
      "Epoch 17\n",
      "Loss = 2.437852916152391 :: Training = 0.16 :: Test = 0.11\n",
      "Epoch 18\n",
      "Loss = 2.44125669669405 :: Training = 0.16 :: Test = 0.11\n",
      "Epoch 19\n",
      "Loss = 2.444329092029611 :: Training = 0.16 :: Test = 0.11\n",
      "Epoch 20\n",
      "Loss = 2.4471011543652414 :: Training = 0.16 :: Test = 0.11\n"
     ]
    }
   ],
   "source": [
    "# Design a three hidden layer architecture with dense layer\n",
    "# and ReLU as activation function\n",
    "def fcn_cifar():\n",
    "    flat = Flatten()\n",
    "    hidden_01 = FullyConnected(3072, 500)\n",
    "    relu_01 = ReLU()\n",
    "    hidden_02 = FullyConnected(500, 200)\n",
    "    relu_02 = ReLU()\n",
    "    hidden_03 = FullyConnected(200, 100)\n",
    "    relu_03 = ReLU()\n",
    "    ouput = FullyConnected(100, 10)\n",
    "    return [flat, hidden_01, relu_01, hidden_02, relu_02, hidden_03, relu_03, ouput]\n",
    "\n",
    "# create a neural network on specified architecture with softmax as score function\n",
    "fcn_c10 = NeuralNetwork(fcn_cifar(), score_func=LossCriteria.softmax)\n",
    "\n",
    "# optimize the network and a softmax loss\n",
    "fcn_c10 = Optimizer.sgd(fcn_c10, tr_images_batch, tr_labels_batch, LossCriteria.cross_entropy_softmax, batch_size=32, epoch=20, learning_rate=0.01, X_test=te_images_batch, y_test=te_labels_batch, verbose=True)"
   ]
  },
  {
   "cell_type": "markdown",
   "metadata": {},
   "source": [
    "## Convolutional Neural Network"
   ]
  },
  {
   "cell_type": "code",
   "execution_count": 12,
   "metadata": {},
   "outputs": [
    {
     "name": "stdout",
     "output_type": "stream",
     "text": [
      "Epoch 1\n",
      "Loss = 2.358531432748527 :: Training = 0.19 :: Test = 0.11\n",
      "Epoch 2\n",
      "Loss = 2.4233869762495646 :: Training = 0.17 :: Test = 0.12\n",
      "Epoch 3\n",
      "Loss = 2.430393885283067 :: Training = 0.23 :: Test = 0.16\n",
      "Epoch 4\n",
      "Loss = 2.355750678188758 :: Training = 0.19 :: Test = 0.1\n",
      "Epoch 5\n",
      "Loss = 2.373550359638425 :: Training = 0.34 :: Test = 0.18\n",
      "Epoch 6\n",
      "Loss = 1.9098234901638533 :: Training = 0.22 :: Test = 0.11\n",
      "Epoch 7\n",
      "Loss = 2.3681873072855453 :: Training = 0.16 :: Test = 0.11\n",
      "Epoch 8\n",
      "Loss = 2.3748321227269367 :: Training = 0.16 :: Test = 0.11\n",
      "Epoch 9\n",
      "Loss = 2.3812944975304857 :: Training = 0.16 :: Test = 0.11\n",
      "Epoch 10\n",
      "Loss = 2.3874993820377837 :: Training = 0.16 :: Test = 0.11\n",
      "Epoch 11\n",
      "Loss = 2.3933982699357 :: Training = 0.16 :: Test = 0.11\n",
      "Epoch 12\n",
      "Loss = 2.3989632221497335 :: Training = 0.16 :: Test = 0.11\n",
      "Epoch 13\n",
      "Loss = 2.40418185642091 :: Training = 0.16 :: Test = 0.11\n",
      "Epoch 14\n",
      "Loss = 2.409053241775854 :: Training = 0.16 :: Test = 0.11\n",
      "Epoch 15\n",
      "Loss = 2.41358460574074 :: Training = 0.16 :: Test = 0.11\n",
      "Epoch 16\n",
      "Loss = 2.417788746834759 :: Training = 0.16 :: Test = 0.11\n",
      "Epoch 17\n",
      "Loss = 2.421682041797589 :: Training = 0.16 :: Test = 0.11\n",
      "Epoch 18\n",
      "Loss = 2.4252829422311915 :: Training = 0.16 :: Test = 0.11\n",
      "Epoch 19\n",
      "Loss = 2.4286108654861422 :: Training = 0.16 :: Test = 0.11\n",
      "Epoch 20\n",
      "Loss = 2.431685397102822 :: Training = 0.16 :: Test = 0.11\n"
     ]
    }
   ],
   "source": [
    "# Design a one hidden layer architecture with conv layer\n",
    "# and ReLU as activation function\n",
    "def cnn_cifar():\n",
    "    conv = Conv(tr_images_batch.shape, 1, 3, 1, True)\n",
    "    relu_01 = ReLU()\n",
    "    flat = Flatten()\n",
    "    ouput = FullyConnected(1024, 10)\n",
    "    return [conv, relu_01, flat, ouput]\n",
    "\n",
    "# create a neural network on specified architecture with softmax as score function\n",
    "cnn_c10 = NeuralNetwork(cnn_cifar(), score_func=LossCriteria.softmax)\n",
    "\n",
    "# optimize the network and a softmax loss\n",
    "cnn_c10 = Optimizer.sgd(cnn_c10, tr_images_batch, tr_labels_batch, LossCriteria.cross_entropy_softmax, batch_size=32, epoch=20, learning_rate=0.01, X_test=te_images_batch, y_test=te_labels_batch, verbose=True)"
   ]
  },
  {
   "cell_type": "markdown",
   "metadata": {},
   "source": [
    "## Convolutional Neural Network with Pooling"
   ]
  },
  {
   "cell_type": "code",
   "execution_count": 13,
   "metadata": {},
   "outputs": [
    {
     "name": "stdout",
     "output_type": "stream",
     "text": [
      "Epoch 1\n",
      "Loss = 2.312640820130772 :: Training = 0.15 :: Test = 0.11\n",
      "Epoch 2\n",
      "Loss = 2.2943106838072747 :: Training = 0.15 :: Test = 0.11\n",
      "Epoch 3\n",
      "Loss = 2.2748085767086392 :: Training = 0.16 :: Test = 0.11\n",
      "Epoch 4\n",
      "Loss = 2.2547448909364327 :: Training = 0.17 :: Test = 0.11\n",
      "Epoch 5\n",
      "Loss = 2.2328610319977105 :: Training = 0.17 :: Test = 0.11\n",
      "Epoch 6\n",
      "Loss = 2.214845308820109 :: Training = 0.18 :: Test = 0.11\n",
      "Epoch 7\n",
      "Loss = 2.1950710624951255 :: Training = 0.18 :: Test = 0.11\n",
      "Epoch 8\n",
      "Loss = 2.172548565156189 :: Training = 0.2 :: Test = 0.12\n",
      "Epoch 9\n",
      "Loss = 2.155283666071791 :: Training = 0.2 :: Test = 0.13\n",
      "Epoch 10\n",
      "Loss = 2.1133945868246458 :: Training = 0.24 :: Test = 0.13\n",
      "Epoch 11\n",
      "Loss = 2.0653839612277 :: Training = 0.25 :: Test = 0.13\n",
      "Epoch 12\n",
      "Loss = 2.045934189198816 :: Training = 0.31 :: Test = 0.19\n",
      "Epoch 13\n",
      "Loss = 2.184712053544089 :: Training = 0.28 :: Test = 0.14\n",
      "Epoch 14\n",
      "Loss = 2.0394407583892056 :: Training = 0.22 :: Test = 0.11\n",
      "Epoch 15\n",
      "Loss = 1.9859670577519024 :: Training = 0.34 :: Test = 0.14\n",
      "Epoch 16\n",
      "Loss = 2.0326289950501213 :: Training = 0.39 :: Test = 0.2\n",
      "Epoch 17\n",
      "Loss = 1.8191618380753356 :: Training = 0.32 :: Test = 0.12\n",
      "Epoch 18\n",
      "Loss = 1.6242346373489391 :: Training = 0.4 :: Test = 0.16\n",
      "Epoch 19\n",
      "Loss = 1.875977716801432 :: Training = 0.5 :: Test = 0.22\n",
      "Epoch 20\n",
      "Loss = 1.5912617451115827 :: Training = 0.42 :: Test = 0.18\n"
     ]
    }
   ],
   "source": [
    "def cnn_pool_cifar():\n",
    "    conv = Conv(tr_images_batch.shape, 1, 3, 1, True)\n",
    "    relu_01 = ReLU()\n",
    "    pool = Pool(tr_images_batch.shape, np.max, 2, 1)\n",
    "    flat = Flatten()\n",
    "    ouput = FullyConnected(961, 10)\n",
    "    return [conv, relu_01, pool, flat, ouput]\n",
    "\n",
    "# create a neural network on specified architecture with softmax as score function\n",
    "cnn_pool_c10 = NeuralNetwork(cnn_pool_cifar(), score_func=LossCriteria.softmax)\n",
    "\n",
    "# optimize the network and a softmax loss\n",
    "cnn_c10 = Optimizer.sgd(cnn_pool_c10, tr_images_batch, tr_labels_batch, LossCriteria.cross_entropy_softmax, batch_size=64, epoch=20, learning_rate=0.01, X_test=te_images_batch, y_test=te_labels_batch, verbose=True)"
   ]
  },
  {
   "cell_type": "markdown",
   "metadata": {},
   "source": [
    "## Fully Conected Neural Network with Dropout"
   ]
  },
  {
   "cell_type": "code",
   "execution_count": 14,
   "metadata": {},
   "outputs": [
    {
     "name": "stdout",
     "output_type": "stream",
     "text": [
      "Epoch 1\n",
      "Loss = 78.38093186385963 :: Training = 0.12 :: Test = 0.16\n",
      "Epoch 2\n",
      "Loss = inf :: Training = 0.16 :: Test = 0.11\n",
      "Epoch 3\n"
     ]
    },
    {
     "name": "stderr",
     "output_type": "stream",
     "text": [
      "/storage/neural-networks/Assignment_03/htw_nn_framework/loss_func.py:22: RuntimeWarning: divide by zero encountered in log\n",
      "  log_likelihood = -np.log(p[range(m), y])\n"
     ]
    },
    {
     "name": "stdout",
     "output_type": "stream",
     "text": [
      "Loss = inf :: Training = 0.1 :: Test = 0.08\n",
      "Epoch 4\n",
      "Loss = inf :: Training = 0.1 :: Test = 0.06\n",
      "Epoch 5\n",
      "Loss = 2.297609378682687 :: Training = 0.1 :: Test = 0.06\n",
      "Epoch 6\n",
      "Loss = 2.2887696619593476 :: Training = 0.1 :: Test = 0.06\n",
      "Epoch 7\n",
      "Loss = 2.2819134754025723 :: Training = 0.1 :: Test = 0.06\n",
      "Epoch 8\n",
      "Loss = 2.2766332133303275 :: Training = 0.16 :: Test = 0.11\n",
      "Epoch 9\n",
      "Loss = 2.272600493867971 :: Training = 0.16 :: Test = 0.11\n",
      "Epoch 10\n",
      "Loss = 2.2695521892185613 :: Training = 0.16 :: Test = 0.11\n",
      "Epoch 11\n",
      "Loss = 2.267278449445659 :: Training = 0.16 :: Test = 0.11\n",
      "Epoch 12\n",
      "Loss = 2.2656125713778748 :: Training = 0.16 :: Test = 0.11\n",
      "Epoch 13\n",
      "Loss = 2.2644225415073604 :: Training = 0.16 :: Test = 0.11\n",
      "Epoch 14\n",
      "Loss = 2.2636040639593427 :: Training = 0.16 :: Test = 0.11\n",
      "Epoch 15\n",
      "Loss = 2.2630748771252964 :: Training = 0.16 :: Test = 0.11\n",
      "Epoch 16\n",
      "Loss = 2.2627701659443087 :: Training = 0.16 :: Test = 0.11\n",
      "Epoch 17\n",
      "Loss = 2.262638889036512 :: Training = 0.16 :: Test = 0.11\n",
      "Epoch 18\n",
      "Loss = 2.2626408579285373 :: Training = 0.16 :: Test = 0.11\n",
      "Epoch 19\n",
      "Loss = 2.2627444265290078 :: Training = 0.16 :: Test = 0.11\n",
      "Epoch 20\n",
      "Loss = 2.262924670464427 :: Training = 0.16 :: Test = 0.11\n"
     ]
    }
   ],
   "source": [
    "# Design a two hidden layer architecture with dense layer, dropout layer\n",
    "# and ReLU as activation function\n",
    "def fcn_dropout_cifar():\n",
    "    flat = Flatten()\n",
    "    hidden_01 = FullyConnected(3072, 500)\n",
    "    relu_01 = ReLU()\n",
    "    dropout = Dropout()\n",
    "    hidden_02 = FullyConnected(500, 100)\n",
    "    relu_02 = ReLU()\n",
    "    ouput = FullyConnected(100, 10)\n",
    "    return [flat, hidden_01, relu_01, dropout, hidden_02, relu_02, ouput]\n",
    "\n",
    "# create a neural network on specified architecture with softmax as score function\n",
    "fcn_dropout_c10 = NeuralNetwork(fcn_dropout_cifar(), score_func=LossCriteria.softmax)\n",
    "\n",
    "# optimize the network and a softmax loss\n",
    "fcn_dropout_c10 = Optimizer.sgd(fcn_dropout_c10, tr_images_batch, tr_labels_batch, LossCriteria.cross_entropy_softmax, batch_size=64, epoch=20, learning_rate=0.01, X_test=te_images_batch, y_test=te_labels_batch, verbose=True)"
   ]
  },
  {
   "cell_type": "code",
   "execution_count": null,
   "metadata": {},
   "outputs": [],
   "source": []
  }
 ],
 "metadata": {
  "kernelspec": {
   "display_name": "Python 3",
   "language": "python",
   "name": "python3"
  },
  "language_info": {
   "codemirror_mode": {
    "name": "ipython",
    "version": 3
   },
   "file_extension": ".py",
   "mimetype": "text/x-python",
   "name": "python",
   "nbconvert_exporter": "python",
   "pygments_lexer": "ipython3",
   "version": "3.5.2"
  }
 },
 "nbformat": 4,
 "nbformat_minor": 2
}
