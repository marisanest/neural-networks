{
 "cells": [
  {
   "cell_type": "markdown",
   "metadata": {},
   "source": [
    "# ML-Fundamentals - Neural Networks - Exercise: Neural Network Framework"
   ]
  },
  {
   "cell_type": "markdown",
   "metadata": {},
   "source": [
    "# Tasks\n",
    "Your main goal is to extend the existing framework, to perform experiments with different model combinations and to document your observations. Here is a list of necessary tasks and some ideas for additional points:\n",
    "  * (6) Write a data loader for a different image dataset, e.g., CIFAR or Labelled Faces in the Wild. Feel free to search a dataset you like to classify. Create and train a simple fully connected network on that dataset in this notebook.\n",
    "  * (10) Implement the `Conv` and `Pool` Layer in `layer.py`. Create and train a convolutional neural network on Mnist and your chosen dataset in this notebook.\n",
    "\n",
    "Bonus points\n",
    "  * (5) 1 to 5 points are given for improving the class and method comments in the framework files. Points are given based on the quality and quantity of the comments.\n",
    "  * (1) For each additional implemented activation functions in `activation_func.py` you get 1 bonus point (max 4 points). Test your implementation in this notebook and observe effects on your networks. Keep an eye on your layer initialization.\n",
    "  * (2) Implement `Dropout` in `layer.py` and test your implementation with a toy example. Create and train a model that includes Dropout as a layer.\n",
    "  * (5) Implement `Batchnorm` in `layer.py` and test your implementation with a toy example. Create and train a model that includes Dropout as a layer.\n",
    "  * (4) Implement another optimization algorithm in `optimizer.py`. Train one of your models with that new optimizer.\n",
    "  * (5) Do something extra, up to 5 points.  \n",
    "  \n",
    "Please document thoroughly and explain what you do in your experiments, so that work in the notebook is comprehensible, else no points are given."
   ]
  },
  {
   "cell_type": "markdown",
   "metadata": {},
   "source": [
    "Fragen\n",
    "* Sollen wir nur für Pool Layer nur Max forward und backward implementieren? Falls nein, wie solen wir das mit der backward implementierung machen?\n",
    "* Siehe in layers.py: \n",
    "    * In Pooling.backward: What is if not only one pixel has the max value?\n",
    "    * In Conv Layer: soll zu jedem Pixel bias hinzugefügt werden oder erst nach sum?\n",
    "    * In Dropout: maske für alle images gleich oder für jedes eine andere? Und wie sollen wir damit umgehen, wenn wir vorhersagen wollen?\n",
    "    * Braucht man nach Dropout oder Pool Layer eine Aktivierungsfunktion?\n",
    "    * Pooling Layer gibt immer gleichen loss zurück, woran kann das liegen?"
   ]
  },
  {
   "cell_type": "markdown",
   "metadata": {},
   "source": [
    "# Requirements"
   ]
  },
  {
   "cell_type": "markdown",
   "metadata": {},
   "source": [
    "## Python-Modules"
   ]
  },
  {
   "cell_type": "code",
   "execution_count": 4,
   "metadata": {
    "collapsed": false
   },
   "outputs": [
    {
     "name": "stdout",
     "output_type": "stream",
     "text": [
      "The autoreload extension is already loaded. To reload it, use:\n",
      "  %reload_ext autoreload\n"
     ]
    }
   ],
   "source": [
    "%load_ext autoreload\n",
    "%autoreload 2\n",
    "# custom \n",
    "from htw_nn_framework.networks import NeuralNetwork\n",
    "from htw_nn_framework.layer import *\n",
    "from htw_nn_framework.activation_func import *\n",
    "from htw_nn_framework.loss_func import *\n",
    "from htw_nn_framework.optimizer import *\n",
    "\n",
    "# third party\n",
    "from deep_teaching_commons.data.fundamentals.mnist import Mnist"
   ]
  },
  {
   "cell_type": "markdown",
   "metadata": {},
   "source": [
    "## Data"
   ]
  },
  {
   "cell_type": "code",
   "execution_count": 5,
   "metadata": {
    "collapsed": false
   },
   "outputs": [
    {
     "name": "stdout",
     "output_type": "stream",
     "text": [
      "auto download is active, attempting download\n",
      "mnist data directory already exists, download aborted\n",
      "(60000, 28, 28) (60000,)\n",
      "(60000, 1, 28, 28) (60000,)\n"
     ]
    }
   ],
   "source": [
    "# create mnist loader from deep_teaching_commons\n",
    "mnist_loader = Mnist(data_dir='data')\n",
    "\n",
    "# load all data, labels are one-hot-encoded, images are flatten and pixel squashed between [0,1]\n",
    "train_images, train_labels, test_images, test_labels = mnist_loader.get_all_data(flatten=False, one_hot_enc=False, normalized=True)\n",
    "print(train_images.shape, train_labels.shape)\n",
    "\n",
    "# reshape to match generell framework architecture \n",
    "train_images, test_images = train_images.reshape(60000, 1, 28, 28), test_images.reshape(10000, 1, 28, 28)            \n",
    "print(train_images.shape, train_labels.shape)\n",
    "\n",
    "# shuffle training data\n",
    "shuffle_index = np.random.permutation(60000)\n",
    "train_images, train_labels = train_images[shuffle_index], train_labels[shuffle_index]"
   ]
  },
  {
   "cell_type": "markdown",
   "metadata": {},
   "source": [
    "# MNIST Fully Connected Network Example\n",
    "This model and optimization is taken from `framework_exercise.ipynb` as an example for a typical pipeline using the framework files."
   ]
  },
  {
   "cell_type": "code",
   "execution_count": 31,
   "metadata": {
    "collapsed": false
   },
   "outputs": [],
   "source": [
    "train_images_batch, train_labels_batch, test_images_batch, test_labels_batch = train_images[:100,:,:,:], train_labels[:100], test_images[:100,:,:,:], test_labels[:100]"
   ]
  },
  {
   "cell_type": "code",
   "execution_count": null,
   "metadata": {
    "collapsed": false
   },
   "outputs": [],
   "source": [
    "# design a three hidden layer architecture with Dense-Layer\n",
    "# and ReLU as activation function\n",
    "def fcn_mnist():\n",
    "    flat = Flatten()\n",
    "    hidden_01 = FullyConnected(784, 500)\n",
    "    relu_01 = ReLU()\n",
    "    hidden_02 = FullyConnected(500, 200)\n",
    "    relu_02 = ReLU()\n",
    "    hidden_03 = FullyConnected(200, 100)\n",
    "    relu_03 = ReLU()\n",
    "    ouput = FullyConnected(100, 10)\n",
    "    return [flat, hidden_01, relu_01, hidden_02, relu_02, hidden_03, relu_03, ouput]\n",
    "\n",
    "# create a neural network on specified architecture with softmax as score function\n",
    "fcn = NeuralNetwork(fcn_mnist(), score_func=LossCriteria.softmax)\n",
    "\n",
    "# optimize the network and a softmax loss\n",
    "fcn = Optimizer.sgd(fcn, train_images_batch, train_labels_batch, LossCriteria.cross_entropy_softmax, batch_size=64, epoch=10, learning_rate=0.01, X_test=test_images_batch, y_test=test_labels_batch, verbose=True)"
   ]
  },
  {
   "cell_type": "markdown",
   "metadata": {},
   "source": [
    "# Todo: Your Extensions and Experiments"
   ]
  },
  {
   "cell_type": "code",
   "execution_count": 26,
   "metadata": {
    "collapsed": false
   },
   "outputs": [],
   "source": [
    "train_images_batch, train_labels_batch, test_images_batch, test_labels_batch = train_images[:100,:,:,:], train_labels[:100], test_images[:100,:,:,:], test_labels[:100]"
   ]
  },
  {
   "cell_type": "code",
   "execution_count": 35,
   "metadata": {
    "collapsed": false
   },
   "outputs": [
    {
     "name": "stdout",
     "output_type": "stream",
     "text": [
      "Epoch 1\n",
      "Loss = 2.2694578452448795 :: Training = 0.45 :: Test = 0.26\n",
      "Epoch 2\n",
      "Loss = 1.9110738698244194 :: Training = 0.41 :: Test = 0.25\n",
      "Epoch 3\n",
      "Loss = 1.975202062034818 :: Training = 0.65 :: Test = 0.5\n",
      "Epoch 4\n",
      "Loss = 1.2662140191974134 :: Training = 0.78 :: Test = 0.59\n",
      "Epoch 5\n",
      "Loss = 0.9367188910278469 :: Training = 0.93 :: Test = 0.7\n",
      "Epoch 6\n",
      "Loss = 0.5372093838818499 :: Training = 0.91 :: Test = 0.66\n",
      "Epoch 7\n",
      "Loss = 0.2647844352773687 :: Training = 1.0 :: Test = 0.72\n",
      "Epoch 8\n",
      "Loss = 0.18068986459120123 :: Training = 1.0 :: Test = 0.76\n",
      "Epoch 9\n",
      "Loss = 0.0739676511032567 :: Training = 1.0 :: Test = 0.71\n",
      "Epoch 10\n",
      "Loss = 0.04715890340149023 :: Training = 1.0 :: Test = 0.71\n"
     ]
    }
   ],
   "source": [
    "# design a one hidden layer architecture with Conv-Layer\n",
    "# and ReLU as activation function\n",
    "def cnn_mnist():\n",
    "    conv = Conv(train_images_batch.shape, 1, 3, 1, True)\n",
    "    relu_01 = ReLU()\n",
    "    flat = Flatten()\n",
    "    ouput = FullyConnected(784, 10)\n",
    "    return [conv, relu_01, flat, ouput]\n",
    "\n",
    "# create a neural network on specified architecture with softmax as score function\n",
    "cnn = NeuralNetwork(cnn_mnist(), score_func=LossCriteria.softmax)\n",
    "\n",
    "# optimize the network and a softmax loss\n",
    "cnn = Optimizer.sgd(cnn, train_images_batch, train_labels_batch, LossCriteria.cross_entropy_softmax, batch_size=64, epoch=10, learning_rate=0.01, X_test=test_images_batch, y_test=test_labels_batch, verbose=True)"
   ]
  },
  {
   "cell_type": "code",
   "execution_count": 44,
   "metadata": {
    "collapsed": false
   },
   "outputs": [
    {
     "name": "stdout",
     "output_type": "stream",
     "text": [
      "Epoch 1\n",
      "Loss = 8.349133883558634 :: Training = 0.1 :: Test = 0.14\n",
      "Epoch 2\n",
      "Loss = 2.30871212199084 :: Training = 0.13 :: Test = 0.14\n",
      "Epoch 3\n",
      "Loss = 2.2965014229676015 :: Training = 0.14 :: Test = 0.08\n",
      "Epoch 4\n",
      "Loss = 2.286223601912051 :: Training = 0.14 :: Test = 0.08\n",
      "Epoch 5\n",
      "Loss = 2.2775862840431835 :: Training = 0.14 :: Test = 0.08\n",
      "Epoch 6\n",
      "Loss = 2.2703342842847514 :: Training = 0.14 :: Test = 0.08\n",
      "Epoch 7\n",
      "Loss = 2.264246738982798 :: Training = 0.14 :: Test = 0.08\n",
      "Epoch 8\n",
      "Loss = 2.2591340812048846 :: Training = 0.14 :: Test = 0.08\n",
      "Epoch 9\n",
      "Loss = 2.254834911933597 :: Training = 0.14 :: Test = 0.08\n",
      "Epoch 10\n",
      "Loss = 2.2512128458568714 :: Training = 0.14 :: Test = 0.08\n"
     ]
    }
   ],
   "source": [
    "# design a two hidden layer architecture with Conv-Layer and Pooling-Layer\n",
    "# and ReLU as activation function\n",
    "def cnn_pool_mnist():\n",
    "    conv = Conv(train_images_batch.shape, 1, 3, 1, True)\n",
    "    relu_01 = ReLU()\n",
    "    pool = Pool(train_images_batch.shape, np.max, 2, 1)\n",
    "    flat = Flatten()\n",
    "    ouput = FullyConnected(729, 10)\n",
    "    return [conv, relu_01, pool, flat, ouput]\n",
    "\n",
    "# create a neural network on specified architecture with softmax as score function\n",
    "cnn_pool = NeuralNetwork(cnn_pool_mnist(), score_func=LossCriteria.softmax)\n",
    "\n",
    "# optimize the network and a softmax loss\n",
    "cnn_pool = Optimizer.sgd(cnn_pool, train_images_batch, train_labels_batch, LossCriteria.cross_entropy_softmax, batch_size=64, epoch=10, learning_rate=0.01, X_test=test_images_batch, y_test=test_labels_batch, verbose=True)"
   ]
  },
  {
   "cell_type": "code",
   "execution_count": 34,
   "metadata": {
    "collapsed": false
   },
   "outputs": [
    {
     "name": "stdout",
     "output_type": "stream",
     "text": [
      "Epoch 1\n",
      "Loss = 2.241838426028755 :: Training = 0.31 :: Test = 0.17\n",
      "Epoch 2\n",
      "Loss = 2.0186859224479807 :: Training = 0.47 :: Test = 0.19\n",
      "Epoch 3\n",
      "Loss = 1.8034993047685224 :: Training = 0.5 :: Test = 0.3\n",
      "Epoch 4\n",
      "Loss = 1.5847811386312407 :: Training = 0.58 :: Test = 0.55\n",
      "Epoch 5\n",
      "Loss = 1.3640040506297673 :: Training = 0.78 :: Test = 0.62\n",
      "Epoch 6\n",
      "Loss = 1.2841362981274649 :: Training = 0.75 :: Test = 0.64\n",
      "Epoch 7\n",
      "Loss = 1.0457346896770525 :: Training = 0.82 :: Test = 0.7\n",
      "Epoch 8\n",
      "Loss = 0.9075676813155142 :: Training = 0.88 :: Test = 0.67\n",
      "Epoch 9\n",
      "Loss = 0.7178575746432586 :: Training = 0.94 :: Test = 0.68\n",
      "Epoch 10\n",
      "Loss = 0.6178313401247839 :: Training = 0.94 :: Test = 0.72\n"
     ]
    }
   ],
   "source": [
    "# design a three hidden layer architecture with Dense-Layer and Dropout-Layer\n",
    "# and ReLU as activation function\n",
    "def fcn_mnist():\n",
    "    flat = Flatten()\n",
    "    hidden_01 = FullyConnected(784, 500)\n",
    "    relu_01 = ReLU()\n",
    "    hidden_02 = Dropout()\n",
    "    hidden_03 = FullyConnected(500, 100)\n",
    "    relu_02 = ReLU()\n",
    "    ouput = FullyConnected(100, 10)\n",
    "    return [flat, hidden_01, relu_01, hidden_02, hidden_03, relu_02, ouput]\n",
    "\n",
    "# create a neural network on specified architecture with softmax as score function\n",
    "fcn = NeuralNetwork(fcn_mnist(), score_func=LossCriteria.softmax)\n",
    "\n",
    "# optimize the network and a softmax loss\n",
    "fcn = Optimizer.sgd(fcn, train_images_batch, train_labels_batch, LossCriteria.cross_entropy_softmax, batch_size=64, epoch=10, learning_rate=0.01, X_test=test_images_batch, y_test=test_labels_batch, verbose=True)"
   ]
  },
  {
   "cell_type": "code",
   "execution_count": null,
   "metadata": {
    "collapsed": true
   },
   "outputs": [],
   "source": []
  }
 ],
 "metadata": {
  "kernelspec": {
   "display_name": "Python 3",
   "language": "python",
   "name": "python3"
  },
  "language_info": {
   "codemirror_mode": {
    "name": "ipython",
    "version": 3
   },
   "file_extension": ".py",
   "mimetype": "text/x-python",
   "name": "python",
   "nbconvert_exporter": "python",
   "pygments_lexer": "ipython3",
   "version": "3.6.0"
  }
 },
 "nbformat": 4,
 "nbformat_minor": 2
}
