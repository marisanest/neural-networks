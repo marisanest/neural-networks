{
 "cells": [
  {
   "cell_type": "markdown",
   "metadata": {},
   "source": [
    "# ML-Fundamentals - Neural Networks - Exercise: Neural Network Framework"
   ]
  },
  {
   "cell_type": "markdown",
   "metadata": {},
   "source": [
    "# Tasks\n",
    "Your main goal is to extend the existing framework, to perform experiments with different model combinations and to document your observations. Here is a list of necessary tasks and some ideas for additional points:\n",
    "  * (6) Write a data loader for a different image dataset, e.g., CIFAR or Labelled Faces in the Wild. Feel free to search a dataset you like to classify. Create and train a simple fully connected network on that dataset in this notebook.\n",
    "  * (10) Implement the `Conv` and `Pool` Layer in `layer.py`. Create and train a convolutional neural network on Mnist and your chosen dataset in this notebook.\n",
    "\n",
    "Bonus points\n",
    "  * (5) 1 to 5 points are given for improving the class and method comments in the framework files. Points are given based on the quality and quantity of the comments.\n",
    "  * (1) For each additional implemented activation functions in `activation_func.py` you get 1 bonus point (max 4 points). Test your implementation in this notebook and observe effects on your networks. Keep an eye on your layer initialization.\n",
    "  * (2) Implement `Dropout` in `layer.py` and test your implementation with a toy example. Create and train a model that includes Dropout as a layer.\n",
    "  * (5) Implement `Batchnorm` in `layer.py` and test your implementation with a toy example. Create and train a model that includes Dropout as a layer.\n",
    "  * (4) Implement another optimization algorithm in `optimizer.py`. Train one of your models with that new optimizer.\n",
    "  * (5) Do something extra, up to 5 points.  \n",
    "  \n",
    "Please document thoroughly and explain what you do in your experiments, so that work in the notebook is comprehensible, else no points are given."
   ]
  },
  {
   "cell_type": "markdown",
   "metadata": {},
   "source": [
    "Fragen\n",
    "* Sollen wir nur für Pool Layer nur Max forward und backward implementieren? Falls nein, wie solen wir das mit der backward implementierung machen?\n",
    "* Siehe in layers.py: \n",
    "    * In Pooling.backward: What is if not only one pixel has the max value?\n",
    "    * In Conv Layer: soll zu jedem Pixel bias hinzugefügt werden oder erst nach sum?\n",
    "    * In Dropout: maske für alle images gleich oder für jedes eine andere? Und wie sollen wir damit umgehen, wenn wir vorhersagen wollen?\n",
    "    * Braucht man nach Dropout oder Pool Layer eine Aktivierungsfunktion?\n",
    "    * Pooling Layer gibt immer gleichen loss zurück, woran kann das liegen?"
   ]
  },
  {
   "cell_type": "markdown",
   "metadata": {},
   "source": [
    "# Requirements"
   ]
  },
  {
   "cell_type": "markdown",
   "metadata": {},
   "source": [
    "## Python-Modules"
   ]
  },
  {
   "cell_type": "code",
   "execution_count": 1,
   "metadata": {},
   "outputs": [],
   "source": [
    "%load_ext autoreload\n",
    "%autoreload 2\n",
    "# custom \n",
    "from htw_nn_framework.networks import NeuralNetwork\n",
    "from htw_nn_framework.layer import *\n",
    "from htw_nn_framework.activation_func import *\n",
    "from htw_nn_framework.loss_func import *\n",
    "from htw_nn_framework.optimizer import *\n",
    "from htw_nn_framework.cifar import *\n",
    "\n",
    "# third party\n",
    "from deep_teaching_commons.data.fundamentals.mnist import Mnist"
   ]
  },
  {
   "cell_type": "markdown",
   "metadata": {},
   "source": [
    "## Data"
   ]
  },
  {
   "cell_type": "code",
   "execution_count": 2,
   "metadata": {},
   "outputs": [
    {
     "name": "stdout",
     "output_type": "stream",
     "text": [
      "auto download is active, attempting download\n",
      "mnist data directory already exists, download aborted\n",
      "(60000, 28, 28) (60000,)\n",
      "(60000, 1, 28, 28) (60000,)\n"
     ]
    }
   ],
   "source": [
    "# create mnist loader from deep_teaching_commons\n",
    "mnist_loader = Mnist(data_dir='data')\n",
    "\n",
    "# load all data, labels are one-hot-encoded, images are flatten and pixel squashed between [0,1]\n",
    "train_images, train_labels, test_images, test_labels = mnist_loader.get_all_data(flatten=False, one_hot_enc=False, normalized=True)\n",
    "print(train_images.shape, train_labels.shape)\n",
    "\n",
    "# reshape to match generell framework architecture \n",
    "train_images, test_images = train_images.reshape(60000, 1, 28, 28), test_images.reshape(10000, 1, 28, 28)            \n",
    "print(train_images.shape, train_labels.shape)\n",
    "\n",
    "# shuffle training data\n",
    "shuffle_index = np.random.permutation(60000)\n",
    "train_images, train_labels = train_images[shuffle_index], train_labels[shuffle_index]"
   ]
  },
  {
   "cell_type": "markdown",
   "metadata": {},
   "source": [
    "# MNIST Fully Connected Network Example\n",
    "This model and optimization is taken from `framework_exercise.ipynb` as an example for a typical pipeline using the framework files."
   ]
  },
  {
   "cell_type": "code",
   "execution_count": 3,
   "metadata": {},
   "outputs": [],
   "source": [
    "train_images_batch, train_labels_batch, test_images_batch, test_labels_batch = train_images[:100,:,:,:], train_labels[:100], test_images[:100,:,:,:], test_labels[:100]"
   ]
  },
  {
   "cell_type": "code",
   "execution_count": 4,
   "metadata": {},
   "outputs": [
    {
     "name": "stdout",
     "output_type": "stream",
     "text": [
      "Epoch 1\n",
      "Loss = 2.693177362393938 :: Training = 0.3 :: Test = 0.24\n",
      "Epoch 2\n",
      "Loss = 1.9220157832908111 :: Training = 0.64 :: Test = 0.44\n",
      "Epoch 3\n",
      "Loss = 1.989212269543896 :: Training = 0.4 :: Test = 0.32\n",
      "Epoch 4\n",
      "Loss = 1.7863229941199785 :: Training = 0.44 :: Test = 0.28\n",
      "Epoch 5\n",
      "Loss = 2.6829131411569977 :: Training = 0.5 :: Test = 0.23\n",
      "Epoch 6\n",
      "Loss = 1.7813905743512126 :: Training = 0.71 :: Test = 0.6\n",
      "Epoch 7\n",
      "Loss = 1.6224524127319702 :: Training = 0.75 :: Test = 0.65\n",
      "Epoch 8\n",
      "Loss = 0.7361944780450254 :: Training = 0.91 :: Test = 0.7\n",
      "Epoch 9\n",
      "Loss = 0.3773846787111502 :: Training = 0.95 :: Test = 0.68\n",
      "Epoch 10\n",
      "Loss = 0.7268348383292372 :: Training = 0.88 :: Test = 0.51\n"
     ]
    }
   ],
   "source": [
    "# design a three hidden layer architecture with Dense-Layer\n",
    "# and ReLU as activation function\n",
    "def fcn_mnist():\n",
    "    flat = Flatten()\n",
    "    hidden_01 = FullyConnected(784, 500)\n",
    "    relu_01 = ReLU()\n",
    "    hidden_02 = FullyConnected(500, 200)\n",
    "    relu_02 = ReLU()\n",
    "    hidden_03 = FullyConnected(200, 100)\n",
    "    relu_03 = ReLU()\n",
    "    ouput = FullyConnected(100, 10)\n",
    "    return [flat, hidden_01, relu_01, hidden_02, relu_02, hidden_03, relu_03, ouput]\n",
    "\n",
    "# create a neural network on specified architecture with softmax as score function\n",
    "fcn = NeuralNetwork(fcn_mnist(), score_func=LossCriteria.softmax)\n",
    "\n",
    "# optimize the network and a softmax loss\n",
    "fcn = Optimizer.sgd(fcn, train_images_batch, train_labels_batch, LossCriteria.cross_entropy_softmax, batch_size=64, epoch=10, learning_rate=0.01, X_test=test_images_batch, y_test=test_labels_batch, verbose=True)"
   ]
  },
  {
   "cell_type": "markdown",
   "metadata": {},
   "source": [
    "# Todo: Your Extensions and Experiments"
   ]
  },
  {
   "cell_type": "code",
   "execution_count": 5,
   "metadata": {},
   "outputs": [],
   "source": [
    "train_images_batch, train_labels_batch, test_images_batch, test_labels_batch = train_images[:100,:,:,:], train_labels[:100], test_images[:100,:,:,:], test_labels[:100]"
   ]
  },
  {
   "cell_type": "code",
   "execution_count": 6,
   "metadata": {},
   "outputs": [
    {
     "name": "stdout",
     "output_type": "stream",
     "text": [
      "Epoch 1\n",
      "Loss = 3.1421774728373197 :: Training = 0.13 :: Test = 0.14\n",
      "Epoch 2\n",
      "Loss = 2.2978636745267353 :: Training = 0.13 :: Test = 0.14\n",
      "Epoch 3\n",
      "Loss = 2.2946815750663947 :: Training = 0.13 :: Test = 0.14\n",
      "Epoch 4\n",
      "Loss = 2.2920567596444745 :: Training = 0.13 :: Test = 0.14\n",
      "Epoch 5\n",
      "Loss = 2.289887245866618 :: Training = 0.13 :: Test = 0.14\n",
      "Epoch 6\n",
      "Loss = 2.2880899656750646 :: Training = 0.13 :: Test = 0.14\n",
      "Epoch 7\n",
      "Loss = 2.2865972625589217 :: Training = 0.13 :: Test = 0.14\n",
      "Epoch 8\n",
      "Loss = 2.285354031196735 :: Training = 0.13 :: Test = 0.14\n",
      "Epoch 9\n",
      "Loss = 2.2843153828337623 :: Training = 0.13 :: Test = 0.14\n",
      "Epoch 10\n",
      "Loss = 2.2834447412802854 :: Training = 0.13 :: Test = 0.14\n"
     ]
    }
   ],
   "source": [
    "# design a one hidden layer architecture with Conv-Layer\n",
    "# and ReLU as activation function\n",
    "def cnn_mnist():\n",
    "    conv = Conv(train_images_batch.shape, 1, 3, 1, True)\n",
    "    relu_01 = ReLU()\n",
    "    flat = Flatten()\n",
    "    ouput = FullyConnected(784, 10)\n",
    "    return [conv, relu_01, flat, ouput]\n",
    "\n",
    "# create a neural network on specified architecture with softmax as score function\n",
    "cnn = NeuralNetwork(cnn_mnist(), score_func=LossCriteria.softmax)\n",
    "\n",
    "# optimize the network and a softmax loss\n",
    "cnn = Optimizer.sgd(cnn, train_images_batch, train_labels_batch, LossCriteria.cross_entropy_softmax, batch_size=64, epoch=10, learning_rate=0.01, X_test=test_images_batch, y_test=test_labels_batch, verbose=True)"
   ]
  },
  {
   "cell_type": "code",
   "execution_count": 7,
   "metadata": {},
   "outputs": [
    {
     "name": "stdout",
     "output_type": "stream",
     "text": [
      "Epoch 1\n",
      "Loss = 2.6699041081506745 :: Training = 0.67 :: Test = 0.34\n",
      "Epoch 2\n",
      "Loss = 1.0209147848148612 :: Training = 0.92 :: Test = 0.55\n",
      "Epoch 3\n",
      "Loss = 0.6732797592248874 :: Training = 0.93 :: Test = 0.57\n",
      "Epoch 4\n",
      "Loss = 0.5267299566689198 :: Training = 1.0 :: Test = 0.62\n",
      "Epoch 5\n",
      "Loss = 0.1994946962175744 :: Training = 1.0 :: Test = 0.64\n",
      "Epoch 6\n",
      "Loss = 0.1308696549109375 :: Training = 1.0 :: Test = 0.65\n",
      "Epoch 7\n",
      "Loss = 0.09233207062411494 :: Training = 1.0 :: Test = 0.65\n",
      "Epoch 8\n",
      "Loss = 0.07203453986831009 :: Training = 1.0 :: Test = 0.65\n",
      "Epoch 9\n",
      "Loss = 0.05910917229565508 :: Training = 1.0 :: Test = 0.65\n",
      "Epoch 10\n",
      "Loss = 0.05059595506940542 :: Training = 1.0 :: Test = 0.64\n"
     ]
    }
   ],
   "source": [
    "# design a two hidden layer architecture with Conv-Layer and Pooling-Layer\n",
    "# and ReLU as activation function\n",
    "def cnn_pool_mnist():\n",
    "    conv = Conv(train_images_batch.shape, 1, 3, 1, True)\n",
    "    relu_01 = ReLU()\n",
    "    pool = Pool(train_images_batch.shape, np.max, 2, 1)\n",
    "    flat = Flatten()\n",
    "    ouput = FullyConnected(729, 10)\n",
    "    return [conv, relu_01, pool, flat, ouput]\n",
    "\n",
    "# create a neural network on specified architecture with softmax as score function\n",
    "cnn_pool = NeuralNetwork(cnn_pool_mnist(), score_func=LossCriteria.softmax)\n",
    "\n",
    "# optimize the network and a softmax loss\n",
    "cnn_pool = Optimizer.sgd(cnn_pool, train_images_batch, train_labels_batch, LossCriteria.cross_entropy_softmax, batch_size=64, epoch=10, learning_rate=0.01, X_test=test_images_batch, y_test=test_labels_batch, verbose=True)"
   ]
  },
  {
   "cell_type": "code",
   "execution_count": 8,
   "metadata": {},
   "outputs": [
    {
     "name": "stdout",
     "output_type": "stream",
     "text": [
      "Epoch 1\n",
      "Loss = 2.3059331810437658 :: Training = 0.39 :: Test = 0.25\n",
      "Epoch 2\n",
      "Loss = 2.0777573044698574 :: Training = 0.58 :: Test = 0.38\n",
      "Epoch 3\n",
      "Loss = 1.8621823155728445 :: Training = 0.62 :: Test = 0.47\n",
      "Epoch 4\n",
      "Loss = 1.748727881925048 :: Training = 0.72 :: Test = 0.55\n",
      "Epoch 5\n",
      "Loss = 1.4392470857493598 :: Training = 0.75 :: Test = 0.54\n",
      "Epoch 6\n",
      "Loss = 1.3172429870906357 :: Training = 0.8 :: Test = 0.56\n",
      "Epoch 7\n",
      "Loss = 1.2069414659291644 :: Training = 0.86 :: Test = 0.67\n",
      "Epoch 8\n",
      "Loss = 0.9768855426047318 :: Training = 0.9 :: Test = 0.66\n",
      "Epoch 9\n",
      "Loss = 0.7892253872356049 :: Training = 0.88 :: Test = 0.57\n",
      "Epoch 10\n",
      "Loss = 0.9160760861920048 :: Training = 0.94 :: Test = 0.62\n"
     ]
    }
   ],
   "source": [
    "# design a three hidden layer architecture with Dense-Layer and Dropout-Layer\n",
    "# and ReLU as activation function\n",
    "def fcn_mnist():\n",
    "    flat = Flatten()\n",
    "    hidden_01 = FullyConnected(784, 500)\n",
    "    relu_01 = ReLU()\n",
    "    hidden_02 = Dropout()\n",
    "    hidden_03 = FullyConnected(500, 100)\n",
    "    relu_02 = ReLU()\n",
    "    ouput = FullyConnected(100, 10)\n",
    "    return [flat, hidden_01, relu_01, hidden_02, hidden_03, relu_02, ouput]\n",
    "\n",
    "# create a neural network on specified architecture with softmax as score function\n",
    "fcn = NeuralNetwork(fcn_mnist(), score_func=LossCriteria.softmax)\n",
    "\n",
    "# optimize the network and a softmax loss\n",
    "fcn = Optimizer.sgd(fcn, train_images_batch, train_labels_batch, LossCriteria.cross_entropy_softmax, batch_size=64, epoch=10, learning_rate=0.01, X_test=test_images_batch, y_test=test_labels_batch, verbose=True)"
   ]
  },
  {
   "cell_type": "code",
   "execution_count": 11,
   "metadata": {},
   "outputs": [
    {
     "name": "stdout",
     "output_type": "stream",
     "text": [
      "Data already downloaded\n",
      "htw_nn_framework/cifar-10-batches-py/data_batch_1\n",
      "htw_nn_framework/cifar-10-batches-py/data_batch_2\n",
      "htw_nn_framework/cifar-10-batches-py/data_batch_3\n",
      "htw_nn_framework/cifar-10-batches-py/data_batch_4\n",
      "htw_nn_framework/cifar-10-batches-py/data_batch_5\n"
     ]
    }
   ],
   "source": [
    "c10 = Cifar()\n",
    "c10.load()\n",
    "tr_images, tr_labels, te_images, te_labels = c10.get()"
   ]
  },
  {
   "cell_type": "code",
   "execution_count": 32,
   "metadata": {},
   "outputs": [],
   "source": [
    "# shuffle training data\n",
    "shuffle_index = np.random.permutation(len(tr_images))\n",
    "tr_images, tr_labels = tr_images[shuffle_index], tr_labels[shuffle_index]\n",
    "\n",
    "tr_images_batch, tr_labels_batch, te_images_batch, te_labels_batch = tr_images[:100,:,:,:], tr_labels[:100], te_images[:100,:,:,:], te_labels[:100]"
   ]
  },
  {
   "cell_type": "code",
   "execution_count": 33,
   "metadata": {},
   "outputs": [],
   "source": [
    "# design a one hidden layer architecture with Conv-Layer\n",
    "# and ReLU as activation function\n",
    "def cnn_mnist_cifar():\n",
    "    conv = Conv(tr_images_batch.shape, 1, 3, 1, True)\n",
    "    relu_01 = ReLU()\n",
    "    flat = Flatten()\n",
    "    ouput = FullyConnected(1024, 10)\n",
    "    return [conv, relu_01, flat, ouput]"
   ]
  },
  {
   "cell_type": "code",
   "execution_count": 41,
   "metadata": {},
   "outputs": [
    {
     "name": "stdout",
     "output_type": "stream",
     "text": [
      "Epoch 1\n",
      "Loss = 2.295610368710087 :: Training = 0.22 :: Test = 0.14\n",
      "Epoch 2\n",
      "Loss = 2.2327829770554253 :: Training = 0.22 :: Test = 0.15\n",
      "Epoch 3\n",
      "Loss = 2.21578763006391 :: Training = 0.27 :: Test = 0.13\n",
      "Epoch 4\n",
      "Loss = 2.1976602019938967 :: Training = 0.26 :: Test = 0.12\n",
      "Epoch 5\n",
      "Loss = 2.1802088449040706 :: Training = 0.26 :: Test = 0.13\n",
      "Epoch 6\n",
      "Loss = 2.164802345515623 :: Training = 0.27 :: Test = 0.13\n",
      "Epoch 7\n",
      "Loss = 2.1511370707347313 :: Training = 0.26 :: Test = 0.13\n",
      "Epoch 8\n",
      "Loss = 2.1348636239292014 :: Training = 0.26 :: Test = 0.13\n",
      "Epoch 9\n",
      "Loss = 2.118315752218825 :: Training = 0.26 :: Test = 0.13\n",
      "Epoch 10\n",
      "Loss = 2.1031619910138946 :: Training = 0.28 :: Test = 0.13\n",
      "Epoch 11\n",
      "Loss = 2.084932197971387 :: Training = 0.27 :: Test = 0.13\n",
      "Epoch 12\n",
      "Loss = 2.0773118361104292 :: Training = 0.28 :: Test = 0.12\n",
      "Epoch 13\n",
      "Loss = 2.057887852590206 :: Training = 0.28 :: Test = 0.13\n",
      "Epoch 14\n",
      "Loss = 2.0476036192213787 :: Training = 0.3 :: Test = 0.13\n",
      "Epoch 15\n",
      "Loss = 2.026343496353146 :: Training = 0.32 :: Test = 0.13\n",
      "Epoch 16\n",
      "Loss = 2.003954644294771 :: Training = 0.34 :: Test = 0.14\n",
      "Epoch 17\n",
      "Loss = 1.978090370393764 :: Training = 0.35 :: Test = 0.14\n",
      "Epoch 18\n",
      "Loss = 1.9632512701860476 :: Training = 0.36 :: Test = 0.14\n",
      "Epoch 19\n",
      "Loss = 1.9355333210902304 :: Training = 0.35 :: Test = 0.14\n",
      "Epoch 20\n",
      "Loss = 1.9230282812825772 :: Training = 0.36 :: Test = 0.15\n"
     ]
    }
   ],
   "source": [
    "cnn_c10 = NeuralNetwork(cnn_mnist_cifar(), score_func=LossCriteria.softmax)\n",
    "cnn_c10 = Optimizer.sgd(cnn_c10, tr_images_batch, tr_labels_batch, LossCriteria.cross_entropy_softmax, batch_size=32, epoch=20, learning_rate=0.01, X_test=te_images_batch, y_test=te_labels_batch, verbose=True)"
   ]
  },
  {
   "cell_type": "code",
   "execution_count": 45,
   "metadata": {},
   "outputs": [
    {
     "name": "stdout",
     "output_type": "stream",
     "text": [
      "Epoch 1\n",
      "Loss = 3.16766413488691 :: Training = 0.17 :: Test = 0.13\n",
      "Epoch 2\n",
      "Loss = 2.2978438285669425 :: Training = 0.18 :: Test = 0.13\n",
      "Epoch 3\n",
      "Loss = 2.2685694015025866 :: Training = 0.18 :: Test = 0.13\n",
      "Epoch 4\n",
      "Loss = 2.2380109522582217 :: Training = 0.19 :: Test = 0.13\n",
      "Epoch 5\n",
      "Loss = 2.1989712753540775 :: Training = 0.21 :: Test = 0.13\n",
      "Epoch 6\n",
      "Loss = 2.1563434748251034 :: Training = 0.28 :: Test = 0.13\n",
      "Epoch 7\n",
      "Loss = 2.107127331130487 :: Training = 0.32 :: Test = 0.12\n",
      "Epoch 8\n",
      "Loss = 2.037163928798608 :: Training = 0.33 :: Test = 0.15\n",
      "Epoch 9\n",
      "Loss = 1.979981432961945 :: Training = 0.38 :: Test = 0.17\n",
      "Epoch 10\n",
      "Loss = 1.8776078380537378 :: Training = 0.4 :: Test = 0.16\n",
      "Epoch 11\n",
      "Loss = 1.8036824252812436 :: Training = 0.47 :: Test = 0.18\n",
      "Epoch 12\n",
      "Loss = 1.6519583298269562 :: Training = 0.51 :: Test = 0.2\n",
      "Epoch 13\n",
      "Loss = 1.6146995291333217 :: Training = 0.63 :: Test = 0.2\n",
      "Epoch 14\n",
      "Loss = 1.3247238890346096 :: Training = 0.64 :: Test = 0.2\n",
      "Epoch 15\n",
      "Loss = 1.3951303027017947 :: Training = 0.78 :: Test = 0.25\n",
      "Epoch 16\n",
      "Loss = 0.9581633406280687 :: Training = 0.8 :: Test = 0.23\n",
      "Epoch 17\n",
      "Loss = 0.9831895720509932 :: Training = 0.82 :: Test = 0.25\n",
      "Epoch 18\n",
      "Loss = 0.710434755399433 :: Training = 0.85 :: Test = 0.28\n",
      "Epoch 19\n",
      "Loss = 0.6111697079030939 :: Training = 0.9 :: Test = 0.22\n",
      "Epoch 20\n",
      "Loss = 0.49009805701321696 :: Training = 0.9 :: Test = 0.22\n"
     ]
    }
   ],
   "source": [
    "def cnn_pool_cifar():\n",
    "    conv = Conv(tr_images_batch.shape, 1, 3, 1, True)\n",
    "    relu_01 = ReLU()\n",
    "    pool = Pool(tr_images_batch.shape, np.max, 2, 1)\n",
    "    flat = Flatten()\n",
    "    ouput = FullyConnected(961, 10)\n",
    "    return [conv, relu_01, pool, flat, ouput]\n",
    "\n",
    "# create a neural network on specified architecture with softmax as score function\n",
    "cnn_pool_c10 = NeuralNetwork(cnn_pool_cifar(), score_func=LossCriteria.softmax)\n",
    "cnn_c10 = Optimizer.sgd(cnn_pool_c10, tr_images_batch, tr_labels_batch, LossCriteria.cross_entropy_softmax, batch_size=64, epoch=20, learning_rate=0.01, X_test=te_images_batch, y_test=te_labels_batch, verbose=True)"
   ]
  },
  {
   "cell_type": "code",
   "execution_count": null,
   "metadata": {},
   "outputs": [],
   "source": []
  }
 ],
 "metadata": {
  "kernelspec": {
   "display_name": "Python 3",
   "language": "python",
   "name": "python3"
  },
  "language_info": {
   "codemirror_mode": {
    "name": "ipython",
    "version": 3
   },
   "file_extension": ".py",
   "mimetype": "text/x-python",
   "name": "python",
   "nbconvert_exporter": "python",
   "pygments_lexer": "ipython3",
   "version": "3.5.2"
  }
 },
 "nbformat": 4,
 "nbformat_minor": 2
}
