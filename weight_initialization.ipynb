{
 "cells": [
  {
   "cell_type": "markdown",
   "metadata": {
    "slideshow": {
     "slide_type": "slide"
    }
   },
   "source": [
    "### Some Notes on Weight Initialization"
   ]
  },
  {
   "cell_type": "markdown",
   "metadata": {
    "slideshow": {
     "slide_type": "slide"
    }
   },
   "source": [
    "<center>![Figure 1 of \"Imagenet classification with deep convolutional neural networks\"](./pics/weights_krizhevsky.png  \"Learning with Relu vs. Tanh\")</center>\n",
    "\n",
    "from     \n",
    "A Krizhevsky, I Sutskever, GE Hinton, [Imagenet classification with deep convolutional neural networks](https://papers.nips.cc/paper/4824-imagenet-classification-with-deep-convolutional-neural-networks.pdf), Advances in neural information processing systems, 2012"
   ]
  },
  {
   "cell_type": "markdown",
   "metadata": {},
   "source": [
    "Try different versions different initialization schema for tanh and relu. "
   ]
  },
  {
   "cell_type": "code",
   "execution_count": 1,
   "metadata": {
    "collapsed": true
   },
   "outputs": [],
   "source": [
    "#non_linearity = \"tanh\"\n",
    "non_linearity = \"relu\"\n",
    "xavier = True\n",
    "#xavier = False\n",
    "weight_multyplier = 1.0   # only applies if xavier is = False\n",
    "#weight_multyplier = 0.01 # only applies if xavier is = False\n",
    "\n"
   ]
  },
  {
   "cell_type": "code",
   "execution_count": 2,
   "metadata": {
    "collapsed": true
   },
   "outputs": [],
   "source": [
    "import numpy as np"
   ]
  },
  {
   "cell_type": "code",
   "execution_count": 3,
   "metadata": {
    "collapsed": true
   },
   "outputs": [],
   "source": [
    "D = np.random.randn(1000, 500)"
   ]
  },
  {
   "cell_type": "code",
   "execution_count": 4,
   "metadata": {
    "collapsed": true
   },
   "outputs": [],
   "source": [
    "hidden_layer_sizes = [500] * 10"
   ]
  },
  {
   "cell_type": "code",
   "execution_count": 5,
   "metadata": {
    "collapsed": true
   },
   "outputs": [],
   "source": [
    "act = {'relu': lambda x: np.maximum(0,x), 'tanh': lambda x: np.tanh(x)}"
   ]
  },
  {
   "cell_type": "code",
   "execution_count": 6,
   "metadata": {
    "collapsed": true
   },
   "outputs": [],
   "source": [
    "nonlinearities = [non_linearity] * len(hidden_layer_sizes)"
   ]
  },
  {
   "cell_type": "code",
   "execution_count": 7,
   "metadata": {
    "collapsed": true
   },
   "outputs": [],
   "source": [
    "Hs = {}"
   ]
  },
  {
   "cell_type": "code",
   "execution_count": 8,
   "metadata": {
    "slideshow": {
     "slide_type": "-"
    }
   },
   "outputs": [
    {
     "name": "stdout",
     "output_type": "stream",
     "text": [
      "3.9891368944143353\n"
     ]
    },
    {
     "data": {
      "text/plain": [
       "True"
      ]
     },
     "execution_count": 8,
     "metadata": {},
     "output_type": "execute_result"
    }
   ],
   "source": [
    "sigma_square = 4. # variance of the Gaussian\n",
    "a = np.random.randn(10000) * np.sqrt(sigma_square)\n",
    "print (np.var(a, ddof=1))\n",
    "abs(sigma_square - np.var(a, ddof=1)) < 0.1"
   ]
  },
  {
   "cell_type": "markdown",
   "metadata": {},
   "source": [
    "The variance of the product between two independent variables is:\n",
    "\n",
    "$$\n",
    "{\\rm Var}(XY) = E(X^2Y^2) − (E(XY))^2={\\rm Var}(X){\\rm Var}(Y)+{\\rm Var}(X)(E(Y))^2+{\\rm Var}(Y)(E(X))^2\n",
    "$$\n",
    "\n",
    "Goodman, Leo A., \"On the exact variance of products,\" Journal of the American Statistical Association, December 1960, 708–713.\n",
    "\n",
    "with zero-mean variables: \n",
    "$E(X) = E(Y) = 0$\n",
    "this is\n",
    "\n",
    "$$\n",
    "{\\rm Var}(XY) = {\\rm Var}(X){\\rm Var}(Y)\n",
    "$$"
   ]
  },
  {
   "cell_type": "markdown",
   "metadata": {},
   "source": [
    "\n",
    "#### Weight initialization by considering only the forward pass\n",
    "- weight matrix $W$ consists of $m$ \n",
    "  - column vectors $\\vec w_i$ (neuron weights for a hidden neuron $i$, $m$ hiddens for the layer in total)\n",
    "  - each element was drawn from an IID Gaussian with variance $var(W)$.\n",
    "- input vector of one example (also hidden vector) $\\vec x^T$ with expected variance $var (X)$ \n",
    "- for random initialization there is no correlation between the input and the weights \n",
    " - both should be approximatly zero-mean (through initialization resp. data proprocessing for $\\vec x$)\n",
    "\n",
    "So we use\n",
    " - $n$ is also called the \"fan out\" of a layer\n",
    " - $m$ is the \"fan in\" of a layer\n",
    "\n",
    "Now we want that the variance remains constant, i.e. same variance for input and output in the linear regime. So the following expression should be 1:\n",
    "\n",
    "$$\n",
    " \\frac{\\text{var}(\\vec x^T \\cdot \\vec w_i)}{\\text{var}(X)} = \n",
    " \\frac{\\text{var} (\\sum_{j=1}^n x_j  w_{ji})}{\\text{var}(X)}=\n",
    " \\frac{n {\\ }\\text{var}(X) \\text{var}(W)}{\\text{var}(X)} = \n",
    " n {\\ }\\text{var}(W) = 1\n",
    "$$\n",
    "\n",
    "\n",
    "i.e.:\n",
    "- var$(W) = 1/n$  \n",
    "resp.\n",
    "- std$(W) = 1/\\sqrt n$  \n",
    "\n",
    "With ReLu-Units only half of the units are in the acitive regime. So the variance of $W$ must be twice to yield the same effect, i.e.:\n",
    "- var$(W) = 2/n$  \n",
    "resp.\n",
    "- std$(W) = \\sqrt{2/n}$  "
   ]
  },
  {
   "cell_type": "markdown",
   "metadata": {},
   "source": [
    "For training we do a forward pass and a backward pass. In the backward pass the error signal is [\"linearly\" backpropageted.](http://christianherta.de/lehre/dataScience/machineLearning/neuralNetworks/feedforwardNeuralNetworks.html).\n",
    "\n",
    "[Glo10] suggest taking the average between forward and backward pass for initialization, i.e.:\n",
    "- var$(W) = 2/(n + m)$  \n",
    "resp.\n",
    "- std$(W) = \\sqrt{2/(n+m)}$\n",
    "\n",
    "For ReLU's:\n",
    "- var$(W) = 4/(n + m)$  \n",
    "resp.\n",
    "- std$(W) = \\sqrt{4/(n+m)}$\n"
   ]
  },
  {
   "cell_type": "code",
   "execution_count": 9,
   "metadata": {
    "collapsed": true
   },
   "outputs": [],
   "source": [
    "for i in range(len(hidden_layer_sizes)):\n",
    "    X = D if i==0 else Hs[i-1] # input at this layer\n",
    "    fan_in = X.shape[1]\n",
    "    fan_out = hidden_layer_sizes[i]\n",
    "    if not xavier:\n",
    "        W = np.random.randn(fan_in, fan_out) * weight_multyplier\n",
    "    else:\n",
    "        if non_linearity == \"relu\":\n",
    "            f = 2.\n",
    "        else: \n",
    "            f = 1.\n",
    "        W = np.random.randn(fan_in, fan_out) * np.sqrt(f/fan_in) \n",
    "        \n",
    "    z = np.dot(X, W) \n",
    "    h = act[nonlinearities[i]](z)\n",
    "    Hs[i] = h"
   ]
  },
  {
   "cell_type": "code",
   "execution_count": 10,
   "metadata": {},
   "outputs": [
    {
     "name": "stdout",
     "output_type": "stream",
     "text": [
      "input layer had mean 0.001257 and std 1.001215\n"
     ]
    }
   ],
   "source": [
    "print (\"input layer had mean %f and std %f\" % (np.mean(D), np.std(D)))"
   ]
  },
  {
   "cell_type": "code",
   "execution_count": 11,
   "metadata": {
    "collapsed": true
   },
   "outputs": [],
   "source": [
    "layer_means = [np.mean(H) for (i, H) in Hs.items()]"
   ]
  },
  {
   "cell_type": "code",
   "execution_count": 12,
   "metadata": {
    "collapsed": true
   },
   "outputs": [],
   "source": [
    "layer_std = [np.std(H) for (i, H) in Hs.items()]"
   ]
  },
  {
   "cell_type": "code",
   "execution_count": 13,
   "metadata": {},
   "outputs": [
    {
     "name": "stdout",
     "output_type": "stream",
     "text": [
      "hidden layer 0 had mean 0.564394066373 and std 0.825768274254 \n",
      "hidden layer 1 had mean 0.540605992550 and std 0.804607725807 \n",
      "hidden layer 2 had mean 0.590131069974 and std 0.826514815907 \n",
      "hidden layer 3 had mean 0.588340331095 and std 0.851526836559 \n",
      "hidden layer 4 had mean 0.530806808285 and std 0.809978497904 \n",
      "hidden layer 5 had mean 0.461513900536 and std 0.733096402225 \n",
      "hidden layer 6 had mean 0.557053549166 and std 0.770071640719 \n",
      "hidden layer 7 had mean 0.524762959966 and std 0.776026618880 \n",
      "hidden layer 8 had mean 0.519240847545 and std 0.763189350844 \n",
      "hidden layer 9 had mean 0.522487109007 and std 0.766517064885 \n"
     ]
    }
   ],
   "source": [
    "for i, (m, s) in enumerate(zip(layer_means, layer_std)):\n",
    "    print (\"hidden layer %d had mean %.12f and std %.12f \" % (i, m, s))"
   ]
  },
  {
   "cell_type": "code",
   "execution_count": 14,
   "metadata": {},
   "outputs": [
    {
     "data": {
      "text/plain": [
       "Text(0.5,1,'Layer Std')"
      ]
     },
     "execution_count": 14,
     "metadata": {},
     "output_type": "execute_result"
    },
    {
     "data": {
      "image/png": "[encoded data removed]",
      "text/plain": [
       "<Figure size 432x288 with 2 Axes>"
      ]
     },
     "metadata": {},
     "output_type": "display_data"
    }
   ],
   "source": [
    "%matplotlib inline\n",
    "import matplotlib.pyplot as plt\n",
    "\n",
    "plt.figure(1)\n",
    "plt.subplot(121)\n",
    "plt.plot(list(Hs.keys()), layer_means,'r+')\n",
    "plt.title('Layer Means')\n",
    "\n",
    "plt.subplot(122)\n",
    "plt.plot(list(Hs.keys()), layer_std,'r+')\n",
    "plt.title('Layer Std')"
   ]
  },
  {
   "cell_type": "code",
   "execution_count": 15,
   "metadata": {},
   "outputs": [
    {
     "data": {
      "image/png": "[encoded data removed]",
      "text/plain": [
       "<Figure size 2160x1440 with 10 Axes>"
      ]
     },
     "metadata": {},
     "output_type": "display_data"
    }
   ],
   "source": [
    "# plot the distributions\n",
    "plt.figure(figsize=(30,20))\n",
    "plt.subplots_adjust(wspace = 0.5)\n",
    "for i, H in Hs.items():\n",
    "    plt.subplot(1, len(Hs), i+1)\n",
    "    plt.hist(H.ravel())\n",
    "    if non_linearity == 'relu':\n",
    "        plt.xlim(-1,5) # for relu no upper bound for output!\n",
    "    else:\n",
    "        plt.xlim(-1,1)# for tanh\n",
    "plt.savefig(\"weight_exp.png\")\n",
    "plt.show()"
   ]
  },
  {
   "cell_type": "markdown",
   "metadata": {},
   "source": [
    "Literature:\n",
    "\n",
    "- [Glo10] [X. Glorot, Y. Bengio: Understanding the difficulty of training deep feedforward neural networks, AISTATS 2010](http://jmlr.org/proceedings/papers/v9/glorot10a/glorot10a.pdf)\n",
    "- [He15] [Kaiming He, Xiangyu Zhang, Shaoqing Ren, Jian Sun: Delving Deep into Rectifiers: Surpassing Human-Level Performance on ImageNet Classification](http://arxiv.org/abs/1502.01852), IEEE International Conference on Computer Vision (ICCV), 2015 \n",
    "\n",
    "Link:\n",
    "- [Blog Post by Gustav Larsson: Initialization of deep networks](http://deepdish.io/2015/02/24/network-initialization/)"
   ]
  }
 ],
 "metadata": {
  "celltoolbar": "Slideshow",
  "kernelspec": {
   "display_name": "Python 3",
   "language": "python",
   "name": "python3"
  },
  "language_info": {
   "codemirror_mode": {
    "name": "ipython",
    "version": 3
   },
   "file_extension": ".py",
   "mimetype": "text/x-python",
   "name": "python",
   "nbconvert_exporter": "python",
   "pygments_lexer": "ipython3",
   "version": "3.5.2"
  }
 },
 "nbformat": 4,
 "nbformat_minor": 2
}
